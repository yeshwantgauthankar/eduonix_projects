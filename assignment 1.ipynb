{
 "cells": [
  {
   "cell_type": "markdown",
   "id": "9f3c795c",
   "metadata": {},
   "source": [
    "## Q1.1.\tWrite a program which contains one function named as Fun(). That function should display “Hello from Fun” on console\n",
    "\n"
   ]
  },
  {
   "cell_type": "code",
   "execution_count": 1,
   "id": "9fa93f66",
   "metadata": {},
   "outputs": [
    {
     "name": "stdout",
     "output_type": "stream",
     "text": [
      "hello from fun\n"
     ]
    }
   ],
   "source": [
    "def fun():\n",
    "    print(\"hello from fun\")\n",
    "    \n",
    "fun()"
   ]
  },
  {
   "cell_type": "markdown",
   "id": "b2199722",
   "metadata": {},
   "source": [
    "## Q2. \tWrite a program which contains one function named as ChkNum () which accept one parameter as number. If number is even then it should display “Even number” otherwise display “Odd number” on console\n"
   ]
  },
  {
   "cell_type": "code",
   "execution_count": 3,
   "id": "4bec9f3e",
   "metadata": {},
   "outputs": [
    {
     "name": "stdout",
     "output_type": "stream",
     "text": [
      "please Enter the number7\n",
      "Number is  odd\n"
     ]
    }
   ],
   "source": [
    "def chknum(x):\n",
    "    if (x%2 ==0):\n",
    "        print(\"Number is even\")\n",
    "    else:\n",
    "        print(\"Number is  odd\")\n",
    "\n",
    "\n",
    "x=(int(input(\"please Enter the number\")))\n",
    "chknum(x)\n",
    "    \n",
    "    "
   ]
  },
  {
   "cell_type": "markdown",
   "id": "b67ef843",
   "metadata": {},
   "source": [
    "## 3.\tWrite a program which contains one function named as Add () which accepts two numbers from user and return addition of that two numbers\n"
   ]
  },
  {
   "cell_type": "code",
   "execution_count": 5,
   "id": "da1cf651",
   "metadata": {},
   "outputs": [
    {
     "name": "stdout",
     "output_type": "stream",
     "text": [
      "Enter 1st number4\n",
      "Enter 2nd number6\n",
      "Addition is= 10\n"
     ]
    }
   ],
   "source": [
    "def Add(x,y):\n",
    "    return x+y\n",
    "\n",
    "x=(int(input(\"Enter 1st number\")))\n",
    "y=(int(input(\"Enter 2nd number\")))\n",
    "print(\"Addition is=\",Add(x,y))"
   ]
  },
  {
   "cell_type": "markdown",
   "id": "cf4b9524",
   "metadata": {},
   "source": [
    "## 4.\tWrite a program which display 5 times Marvelous on screen"
   ]
  },
  {
   "cell_type": "code",
   "execution_count": 6,
   "id": "4be7816a",
   "metadata": {},
   "outputs": [
    {
     "name": "stdout",
     "output_type": "stream",
     "text": [
      "MARVELLOUS\n",
      "MARVELLOUS\n",
      "MARVELLOUS\n",
      "MARVELLOUS\n",
      "MARVELLOUS\n"
     ]
    }
   ],
   "source": [
    "def printname():\n",
    "    for i  in range(5):\n",
    "          print(\"MARVELLOUS\")\n",
    "\n",
    "printname()"
   ]
  },
  {
   "cell_type": "markdown",
   "id": "5128bf9d",
   "metadata": {},
   "source": [
    "## 5. Write a program which display 10 to 1 on screen"
   ]
  },
  {
   "cell_type": "code",
   "execution_count": 7,
   "id": "2727e870",
   "metadata": {},
   "outputs": [
    {
     "name": "stdout",
     "output_type": "stream",
     "text": [
      "10 9 8 7 6 5 4 3 2 1 "
     ]
    }
   ],
   "source": [
    "def Number():\n",
    "    i=10\n",
    "    while i>0:\n",
    "        print(i,end=\" \")\n",
    "        i-=1\n",
    "Number()"
   ]
  },
  {
   "cell_type": "markdown",
   "id": "462922b6",
   "metadata": {},
   "source": [
    "## 6.Write a program which accept number from user and check whether that number is positive or negative or zero.\n",
    "\n"
   ]
  },
  {
   "cell_type": "code",
   "execution_count": 10,
   "id": "250232a6",
   "metadata": {},
   "outputs": [
    {
     "name": "stdout",
     "output_type": "stream",
     "text": [
      "Enter the  number-6\n",
      "Number is  negative\n"
     ]
    }
   ],
   "source": [
    "def check_number(x):\n",
    "    if x>0:\n",
    "        print(\"Number is positive\")\n",
    "    elif x<0:\n",
    "        print(\"Number is  negative\")\n",
    "    elif x==0:\n",
    "        print(\"Number is  zero\")\n",
    "\n",
    "x=(int(input(\"Enter the  number\")))\n",
    "check_number(x)"
   ]
  },
  {
   "cell_type": "markdown",
   "id": "addf18cc",
   "metadata": {},
   "source": [
    "## 7.\tWrite a program which contains one function that accept one number from user and returns true if number is divisible by 5 otherwise return false."
   ]
  },
  {
   "cell_type": "code",
   "execution_count": 12,
   "id": "bc425dad",
   "metadata": {},
   "outputs": [
    {
     "name": "stdout",
     "output_type": "stream",
     "text": [
      "Enter the  number15\n",
      "Number is divisible by 5\n"
     ]
    }
   ],
   "source": [
    "def Number(x):\n",
    "        if (x%5 ==0):\n",
    "            print(\"Number is divisible by 5\")\n",
    "        else:\n",
    "            print(\"Number is  not divisible by 5\")\n",
    "\n",
    "\n",
    "x=(int(input(\"Enter the  number\")))\n",
    "Number(x)"
   ]
  },
  {
   "cell_type": "markdown",
   "id": "f9181650",
   "metadata": {},
   "source": [
    "## 8.Write a program which accept number from user and print that number of “*” on screen"
   ]
  },
  {
   "cell_type": "code",
   "execution_count": 14,
   "id": "5543cb85",
   "metadata": {},
   "outputs": [
    {
     "name": "stdout",
     "output_type": "stream",
     "text": [
      "Enter the  number7\n",
      "* * * * * * * "
     ]
    }
   ],
   "source": [
    "def printPattern(x):\n",
    "    for i in range(x):\n",
    "        print(\"*\",end=\" \")\n",
    "\n",
    "\n",
    "x=(int(input(\"Enter the  number\")))\n",
    "printPattern(x)"
   ]
  },
  {
   "cell_type": "markdown",
   "id": "c76ae586",
   "metadata": {},
   "source": [
    "## 9.Write a program which display first 10 even numbers on screen"
   ]
  },
  {
   "cell_type": "code",
   "execution_count": 17,
   "id": "334174e0",
   "metadata": {},
   "outputs": [
    {
     "name": "stdout",
     "output_type": "stream",
     "text": [
      "0 2 4 6 8 10 12 14 16 18 "
     ]
    }
   ],
   "source": [
    "def Even_Number():\n",
    "    for i in range(0,20):\n",
    "        if i%2==0:\n",
    "            print(i,end=\" \")\n",
    "            \n",
    "Even_Number()"
   ]
  },
  {
   "cell_type": "markdown",
   "id": "7d26542f",
   "metadata": {},
   "source": [
    "## 10.\tWrite a program which accept name from user and display length of its name."
   ]
  },
  {
   "cell_type": "code",
   "execution_count": 18,
   "id": "e42335ac",
   "metadata": {},
   "outputs": [
    {
     "name": "stdout",
     "output_type": "stream",
     "text": [
      "Enter  string yeshwant\n",
      "Length of stirng= 1\n",
      "Length of stirng= 2\n",
      "Length of stirng= 3\n",
      "Length of stirng= 4\n",
      "Length of stirng= 5\n",
      "Length of stirng= 6\n",
      "Length of stirng= 7\n",
      "Length of stirng= 8\n"
     ]
    }
   ],
   "source": [
    "def String_Length(x):\n",
    "    j=0\n",
    "    for i in x:\n",
    "        j=j+1\n",
    "        print(\"Length of stirng=\",+j)\n",
    "\n",
    "x=input(\"Enter  string \")\n",
    "String_Length(x)"
   ]
  },
  {
   "cell_type": "code",
   "execution_count": null,
   "id": "9d48a7eb",
   "metadata": {},
   "outputs": [],
   "source": []
  }
 ],
 "metadata": {
  "kernelspec": {
   "display_name": "Python 3 (ipykernel)",
   "language": "python",
   "name": "python3"
  },
  "language_info": {
   "codemirror_mode": {
    "name": "ipython",
    "version": 3
   },
   "file_extension": ".py",
   "mimetype": "text/x-python",
   "name": "python",
   "nbconvert_exporter": "python",
   "pygments_lexer": "ipython3",
   "version": "3.10.9"
  }
 },
 "nbformat": 4,
 "nbformat_minor": 5
}
