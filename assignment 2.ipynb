{
 "cells": [
  {
   "cell_type": "markdown",
   "id": "0c571b24",
   "metadata": {},
   "source": [
    "# Question 1\n",
    "# Write a program which will find all such numbers which are divisible by 7 but are not a multiple of 5, between 2000 and 3200 (both included). The numbers obtained should be printed in a comma-separated sequence on a single line."
   ]
  },
  {
   "cell_type": "code",
   "execution_count": 1,
   "id": "3069236d",
   "metadata": {},
   "outputs": [
    {
     "name": "stdout",
     "output_type": "stream",
     "text": [
      "2002,2009,2016,2023,2037,2044,2051,2058,2072,2079,2086,2093,2107,2114,2121,2128,2142,2149,2156,2163,2177,2184,2191,2198,2212,2219,2226,2233,2247,2254,2261,2268,2282,2289,2296,2303,2317,2324,2331,2338,2352,2359,2366,2373,2387,2394,2401,2408,2422,2429,2436,2443,2457,2464,2471,2478,2492,2499,2506,2513,2527,2534,2541,2548,2562,2569,2576,2583,2597,2604,2611,2618,2632,2639,2646,2653,2667,2674,2681,2688,2702,2709,2716,2723,2737,2744,2751,2758,2772,2779,2786,2793,2807,2814,2821,2828,2842,2849,2856,2863,2877,2884,2891,2898,2912,2919,2926,2933,2947,2954,2961,2968,2982,2989,2996,3003,3017,3024,3031,3038,3052,3059,3066,3073,3087,3094,3101,3108,3122,3129,3136,3143,3157,3164,3171,3178,3192,3199\n"
     ]
    }
   ],
   "source": [
    "l=[]\n",
    "for i in range(2000, 3201):\n",
    "    if (i%7==0) and (i%5!=0):\n",
    "        l.append(str(i))\n",
    "\n",
    "# l = [str(x) for x in range(2000,3201) if (x%7==0) and (x%5!=0)]  Better way\n",
    "print (','.join(l))"
   ]
  },
  {
   "cell_type": "markdown",
   "id": "49756952",
   "metadata": {},
   "source": [
    "# Question 2\n",
    "# Write a program which can compute the factorial of a given numbers. The results should be printed in a comma-separated sequence on a single line. Suppose the following input is supplied to the program: 8 Then, the output should be: 40320\n",
    "\n",
    "# Hints: In case of input data being supplied to the question, it should be assumed to be a console input."
   ]
  },
  {
   "cell_type": "code",
   "execution_count": 3,
   "id": "01a959ab",
   "metadata": {},
   "outputs": [
    {
     "name": "stdout",
     "output_type": "stream",
     "text": [
      "8\n",
      "40320\n"
     ]
    }
   ],
   "source": [
    "def fact(x):\n",
    "    if x == 0:\n",
    "        return 1\n",
    "    return x * fact(x - 1)\n",
    "x=int(input())\n",
    "print(fact(x))"
   ]
  },
  {
   "cell_type": "code",
   "execution_count": 4,
   "id": "b45decc1",
   "metadata": {},
   "outputs": [
    {
     "name": "stdout",
     "output_type": "stream",
     "text": [
      "8\n",
      "40320\n"
     ]
    }
   ],
   "source": [
    "import math as ma\n",
    "\"\"\"\n",
    "from functools import reduce\n",
    "from operator import mul\n",
    "\n",
    "x=int(input())\n",
    "print(reduce(mul,range(1,x+1)))\n",
    "\n",
    "\n",
    "\"\"\"\n",
    "\n",
    "x=int(input())\n",
    "print(ma.factorial(x))"
   ]
  },
  {
   "cell_type": "markdown",
   "id": "feafdd6a",
   "metadata": {},
   "source": [
    "# Question 3\n",
    "# With a given integral number n, write a program to generate a dictionary that contains (i, i*i) such that is an integral number between 1 and n (both included). and then the program should print the dictionary. Suppose the following input is supplied to the program: 8 Then, the output should be: {1: 1, 2: 4, 3: 9, 4: 16, 5: 25, 6: 36, 7: 49, 8: 64}\n",
    "\n",
    "# Hints: In case of input data being supplied to the question, it should be assumed to be a console input. Consider use dict()"
   ]
  },
  {
   "cell_type": "code",
   "execution_count": 6,
   "id": "ba7e2bb0",
   "metadata": {},
   "outputs": [
    {
     "name": "stdout",
     "output_type": "stream",
     "text": [
      "8\n",
      "{1: 1, 2: 4, 3: 9, 4: 16, 5: 25, 6: 36, 7: 49, 8: 64}\n"
     ]
    }
   ],
   "source": [
    "n=int(input())\n",
    "d=dict()\n",
    "for i in range(1,n+1):\n",
    "    d[i]=i*i\n",
    "print(d)"
   ]
  },
  {
   "cell_type": "markdown",
   "id": "45950cae",
   "metadata": {},
   "source": [
    "# Question 4\n",
    "# Write a program which accepts a sequence of comma-separated numbers from console and generate a list and a tuple which contains every number. Suppose the following input is supplied to the program: 34,67,55,33,12,98 Then, the output should be: ['34', '67', '55', '33', '12', '98'] ('34', '67', '55', '33', '12', '98')\n",
    "\n",
    "# Hints: In case of input data being supplied to the question, it should be assumed to be a console input. tuple() method can convert list to tuple"
   ]
  },
  {
   "cell_type": "code",
   "execution_count": 7,
   "id": "7b4947d0",
   "metadata": {},
   "outputs": [
    {
     "name": "stdout",
     "output_type": "stream",
     "text": [
      "34,67,55,33,12,98 \n",
      "List of values : ['34', '67', '55', '33', '12', '98 ']\n",
      "Tuple of values : ('34', '67', '55', '33', '12', '98 ')\n"
     ]
    }
   ],
   "source": [
    "values=input()\n",
    "l=values.split(\",\")\n",
    "t=tuple(l)\n",
    "print(f\"List of values : {l}\")\n",
    "print(f\"Tuple of values : {t}\")"
   ]
  },
  {
   "cell_type": "code",
   "execution_count": 8,
   "id": "118a7e72",
   "metadata": {},
   "outputs": [
    {
     "name": "stdout",
     "output_type": "stream",
     "text": [
      "34,67,55,33,12,98 \n",
      "List of values : ['34', '67', '55', '33', '12', '98 ']\n",
      "Tuple of values : ('34', '67', '55', '33', '12', '98 ')\n"
     ]
    }
   ],
   "source": [
    "values=input()\n",
    "l=values.split(\",\")\n",
    "t=tuple(l)\n",
    "print(f\"List of values : {l}\")\n",
    "print(f\"Tuple of values : {t}\")"
   ]
  },
  {
   "cell_type": "markdown",
   "id": "82157100",
   "metadata": {},
   "source": [
    "# Question 5\n",
    "# Define a class which has at least two methods: getString: to get a string from console input printString: to print the string in upper case. Also please include simple test function to test the class methods.\n",
    "\n",
    "# Hints: Use init method to construct some parameters"
   ]
  },
  {
   "cell_type": "code",
   "execution_count": 9,
   "id": "e0574598",
   "metadata": {},
   "outputs": [],
   "source": [
    "class InputOutString:\n",
    "    def __init__(self):\n",
    "        self.s = \"\"\n",
    "\n",
    "    def getString(self):\n",
    "        self.s = input()\n",
    "\n",
    "    def printString(self):\n",
    "        print(self.s.upper())"
   ]
  },
  {
   "cell_type": "code",
   "execution_count": 10,
   "id": "45d220b9",
   "metadata": {},
   "outputs": [
    {
     "name": "stdout",
     "output_type": "stream",
     "text": [
      "my name is yash\n",
      "MY NAME IS YASH\n"
     ]
    }
   ],
   "source": [
    "a = InputOutString()\n",
    "a.getString()\n",
    "a.printString()\n"
   ]
  },
  {
   "cell_type": "markdown",
   "id": "fad154bc",
   "metadata": {},
   "source": [
    "# Question 6\n",
    "# Write a program that calculates and prints the value according to the given formula: Q = Square root of [(2 * C * D)/H] Following are the fixed values of C and H: C is 50. H is 30. D is the variable whose values should be input to your program in a comma-separated sequence. Example Let us assume the following comma separated input sequence is given to the program: 100,150,180 The output of the program should be: 18,22,24\n",
    "\n",
    "# Hints: If the output received is in decimal form, it should be rounded off to its nearest value (for example, if the output received is 26.0, it should be printed as 26) In case of input data being supplied to the question, it should be assumed to be a console input."
   ]
  },
  {
   "cell_type": "code",
   "execution_count": 11,
   "id": "ce101bae",
   "metadata": {},
   "outputs": [
    {
     "name": "stdout",
     "output_type": "stream",
     "text": [
      "Input numbers comma-separated:50,30\n",
      "13,10\n"
     ]
    }
   ],
   "source": [
    "import math\n",
    "c=50\n",
    "h=30\n",
    "value = []\n",
    "items= [x for x in input(\"Input numbers comma-separated:\").split(',')]\n",
    "for d in items:\n",
    "    value.append(str(int(round(math.sqrt(2*c*float(d)/h)))))\n",
    "\n",
    "print (','.join(value))"
   ]
  },
  {
   "cell_type": "markdown",
   "id": "8179d1e6",
   "metadata": {},
   "source": [
    "# Question 7\n",
    "# Write a program which takes 2 digits, X,Y as input and generates a 2-dimensional array. The element value in the i-th row and j-th column of the array should be i*j. Note: i=0,1.., X-1; j=0,1,¡­Y-1. Example Suppose the following inputs are given to the program: 3,5 Then, the output of the program should be: [[0, 0, 0, 0, 0], [0, 1, 2, 3, 4], [0, 2, 4, 6, 8]]\n",
    "\n",
    "# Hints: Note: In case of input data being supplied to the question, it should be assumed to be a console input in a comma-separated form."
   ]
  },
  {
   "cell_type": "code",
   "execution_count": 12,
   "id": "d88bfa02",
   "metadata": {},
   "outputs": [
    {
     "name": "stdout",
     "output_type": "stream",
     "text": [
      "3,4,5\n",
      "[[0, 0, 0, 0], [0, 1, 2, 3], [0, 2, 4, 6]]\n"
     ]
    }
   ],
   "source": [
    "input_str = input()\n",
    "dimensions=[int(x) for x in input_str.split(',')]\n",
    "rowNum=dimensions[0]\n",
    "colNum=dimensions[1]\n",
    "multilist = [[0 for col in range(colNum)] for row in range(rowNum)]\n",
    "\n",
    "for row in range(rowNum):\n",
    "    for col in range(colNum):\n",
    "        multilist[row][col]= row*col\n",
    "\n",
    "print(multilist)"
   ]
  },
  {
   "cell_type": "markdown",
   "id": "019b37ee",
   "metadata": {},
   "source": [
    "# Question 8\n",
    "# Write a program that accepts a comma separated sequence of words as input and prints the words in a comma-separated sequence after sorting them alphabetically.Suppose the following input is supplied to the program: without,hello,bag,world\n",
    "\n",
    "# Then, the output should be: bag,hello,without,world"
   ]
  },
  {
   "cell_type": "code",
   "execution_count": 13,
   "id": "8115ec09",
   "metadata": {},
   "outputs": [
    {
     "name": "stdout",
     "output_type": "stream",
     "text": [
      "Input Text:rose,sun,apple,mango\n",
      "apple,mango,rose,sun\n"
     ]
    }
   ],
   "source": [
    "original_string = input(\"Input Text:\")\n",
    "l = original_string.split(\",\")\n",
    "final_string = sorted(l,key=str)\n",
    "print(','.join(final_string))"
   ]
  },
  {
   "cell_type": "markdown",
   "id": "5bc91652",
   "metadata": {},
   "source": [
    "# Question 9\n",
    "# Write a program that accepts sequence of lines as input and prints the lines after making all characters in the sentence capitalized. Suppose the following input is supplied to the program:\n",
    "\n",
    "# Hello world\n",
    "# Practice makes perfect\n",
    "# Then, the output should be:\n",
    "\n",
    "# HELLO WORLD\n",
    "# PRACTICE MAKES PERFECT\n",
    "# Hints: In case of input data being supplied to the question, it should be assumed to be a console input.\n",
    "\n"
   ]
  },
  {
   "cell_type": "code",
   "execution_count": 18,
   "id": "206ebfac",
   "metadata": {
    "scrolled": true
   },
   "outputs": [
    {
     "name": "stdout",
     "output_type": "stream",
     "text": [
      "Hello world\n"
     ]
    },
    {
     "ename": "KeyboardInterrupt",
     "evalue": "Interrupted by user",
     "output_type": "error",
     "traceback": [
      "\u001b[1;31m---------------------------------------------------------------------------\u001b[0m",
      "\u001b[1;31mKeyboardInterrupt\u001b[0m                         Traceback (most recent call last)",
      "Cell \u001b[1;32mIn[18], line 3\u001b[0m\n\u001b[0;32m      1\u001b[0m lines \u001b[38;5;241m=\u001b[39m []\n\u001b[0;32m      2\u001b[0m \u001b[38;5;28;01mwhile\u001b[39;00m \u001b[38;5;28;01mTrue\u001b[39;00m:\n\u001b[1;32m----> 3\u001b[0m     s \u001b[38;5;241m=\u001b[39m \u001b[38;5;28;43minput\u001b[39;49m\u001b[43m(\u001b[49m\u001b[43m)\u001b[49m\n\u001b[0;32m      4\u001b[0m     \u001b[38;5;28;01mif\u001b[39;00m s:\n\u001b[0;32m      5\u001b[0m         lines\u001b[38;5;241m.\u001b[39mappend(s\u001b[38;5;241m.\u001b[39mupper())\n",
      "File \u001b[1;32m~\\anaconda3\\lib\\site-packages\\ipykernel\\kernelbase.py:1175\u001b[0m, in \u001b[0;36mKernel.raw_input\u001b[1;34m(self, prompt)\u001b[0m\n\u001b[0;32m   1171\u001b[0m \u001b[38;5;28;01mif\u001b[39;00m \u001b[38;5;129;01mnot\u001b[39;00m \u001b[38;5;28mself\u001b[39m\u001b[38;5;241m.\u001b[39m_allow_stdin:\n\u001b[0;32m   1172\u001b[0m     \u001b[38;5;28;01mraise\u001b[39;00m StdinNotImplementedError(\n\u001b[0;32m   1173\u001b[0m         \u001b[38;5;124m\"\u001b[39m\u001b[38;5;124mraw_input was called, but this frontend does not support input requests.\u001b[39m\u001b[38;5;124m\"\u001b[39m\n\u001b[0;32m   1174\u001b[0m     )\n\u001b[1;32m-> 1175\u001b[0m \u001b[38;5;28;01mreturn\u001b[39;00m \u001b[38;5;28;43mself\u001b[39;49m\u001b[38;5;241;43m.\u001b[39;49m\u001b[43m_input_request\u001b[49m\u001b[43m(\u001b[49m\n\u001b[0;32m   1176\u001b[0m \u001b[43m    \u001b[49m\u001b[38;5;28;43mstr\u001b[39;49m\u001b[43m(\u001b[49m\u001b[43mprompt\u001b[49m\u001b[43m)\u001b[49m\u001b[43m,\u001b[49m\n\u001b[0;32m   1177\u001b[0m \u001b[43m    \u001b[49m\u001b[38;5;28;43mself\u001b[39;49m\u001b[38;5;241;43m.\u001b[39;49m\u001b[43m_parent_ident\u001b[49m\u001b[43m[\u001b[49m\u001b[38;5;124;43m\"\u001b[39;49m\u001b[38;5;124;43mshell\u001b[39;49m\u001b[38;5;124;43m\"\u001b[39;49m\u001b[43m]\u001b[49m\u001b[43m,\u001b[49m\n\u001b[0;32m   1178\u001b[0m \u001b[43m    \u001b[49m\u001b[38;5;28;43mself\u001b[39;49m\u001b[38;5;241;43m.\u001b[39;49m\u001b[43mget_parent\u001b[49m\u001b[43m(\u001b[49m\u001b[38;5;124;43m\"\u001b[39;49m\u001b[38;5;124;43mshell\u001b[39;49m\u001b[38;5;124;43m\"\u001b[39;49m\u001b[43m)\u001b[49m\u001b[43m,\u001b[49m\n\u001b[0;32m   1179\u001b[0m \u001b[43m    \u001b[49m\u001b[43mpassword\u001b[49m\u001b[38;5;241;43m=\u001b[39;49m\u001b[38;5;28;43;01mFalse\u001b[39;49;00m\u001b[43m,\u001b[49m\n\u001b[0;32m   1180\u001b[0m \u001b[43m\u001b[49m\u001b[43m)\u001b[49m\n",
      "File \u001b[1;32m~\\anaconda3\\lib\\site-packages\\ipykernel\\kernelbase.py:1217\u001b[0m, in \u001b[0;36mKernel._input_request\u001b[1;34m(self, prompt, ident, parent, password)\u001b[0m\n\u001b[0;32m   1214\u001b[0m             \u001b[38;5;28;01mbreak\u001b[39;00m\n\u001b[0;32m   1215\u001b[0m \u001b[38;5;28;01mexcept\u001b[39;00m \u001b[38;5;167;01mKeyboardInterrupt\u001b[39;00m:\n\u001b[0;32m   1216\u001b[0m     \u001b[38;5;66;03m# re-raise KeyboardInterrupt, to truncate traceback\u001b[39;00m\n\u001b[1;32m-> 1217\u001b[0m     \u001b[38;5;28;01mraise\u001b[39;00m \u001b[38;5;167;01mKeyboardInterrupt\u001b[39;00m(\u001b[38;5;124m\"\u001b[39m\u001b[38;5;124mInterrupted by user\u001b[39m\u001b[38;5;124m\"\u001b[39m) \u001b[38;5;28;01mfrom\u001b[39;00m \u001b[38;5;28mNone\u001b[39m\n\u001b[0;32m   1218\u001b[0m \u001b[38;5;28;01mexcept\u001b[39;00m \u001b[38;5;167;01mException\u001b[39;00m:\n\u001b[0;32m   1219\u001b[0m     \u001b[38;5;28mself\u001b[39m\u001b[38;5;241m.\u001b[39mlog\u001b[38;5;241m.\u001b[39mwarning(\u001b[38;5;124m\"\u001b[39m\u001b[38;5;124mInvalid Message:\u001b[39m\u001b[38;5;124m\"\u001b[39m, exc_info\u001b[38;5;241m=\u001b[39m\u001b[38;5;28;01mTrue\u001b[39;00m)\n",
      "\u001b[1;31mKeyboardInterrupt\u001b[0m: Interrupted by user"
     ]
    }
   ],
   "source": [
    "lines = []\n",
    "while True:\n",
    "    s = input()\n",
    "    if s:\n",
    "        lines.append(s.upper())\n",
    "    else:\n",
    "        break\n",
    "\n",
    "for s in lines:\n",
    "    print(s)"
   ]
  },
  {
   "cell_type": "markdown",
   "id": "0876dfc9",
   "metadata": {},
   "source": [
    "# Question 10\n",
    "# Write a program that accepts a sequence of whitespace separated words as input and prints the words after removing all duplicate words and sorting them alphanumerically. Suppose the following input is supplied to the program:\n",
    "\n",
    "# hello world and practice makes perfect and hello world again\n",
    "# Then, the output should be:\n",
    "\n",
    "# again and hello makes perfect practice world\n",
    "# Hints: In case of input data being supplied to the question, it should be assumed to be a console input. We use set container to remove duplicated data automatically and then use sorted() to sort the data."
   ]
  },
  {
   "cell_type": "code",
   "execution_count": 20,
   "id": "3c9b123a",
   "metadata": {},
   "outputs": [
    {
     "name": "stdout",
     "output_type": "stream",
     "text": [
      "Input Text:hello world and practice makes man perfect and again hello world\n",
      "again and hello makes man perfect practice world\n"
     ]
    }
   ],
   "source": [
    "s = input(\"Input Text:\")\n",
    "words = [word for word in s.split(\" \")]\n",
    "print (\" \".join(sorted(list(set(words)))))"
   ]
  },
  {
   "cell_type": "markdown",
   "id": "83d44d91",
   "metadata": {},
   "source": [
    "# Question 11\n",
    "# Write a program which accepts a sequence of comma separated 4 digit binary numbers as its input and then check whether they are divisible by 5 or not. The numbers that are divisible by 5 are to be printed in a comma separated sequence.\n",
    "\n",
    "# Example:\n",
    "\n",
    "# 0100,0011,1010,1001\n",
    "# Then the output should be:\n",
    "\n",
    "# 1010"
   ]
  },
  {
   "cell_type": "code",
   "execution_count": 21,
   "id": "0d06810f",
   "metadata": {},
   "outputs": [
    {
     "name": "stdout",
     "output_type": "stream",
     "text": [
      "0100,0011,1010,1001\n",
      "100 1010\n"
     ]
    }
   ],
   "source": [
    "value = []\n",
    "items=[int(x) for x in input().split(',')]\n",
    "result = \" \".join(str(x) for x in items if x %5==0 )\n",
    "print(\"\".join(result))"
   ]
  },
  {
   "cell_type": "markdown",
   "id": "50c0c027",
   "metadata": {},
   "source": [
    "# Question 12\n",
    "# Write a program, which will find all such numbers between 1000 and 3000 (both included) such that each digit of the number is an even number. The numbers obtained should be printed in a comma-separated sequence on a single line."
   ]
  },
  {
   "cell_type": "code",
   "execution_count": 22,
   "id": "f9ef5f8c",
   "metadata": {},
   "outputs": [
    {
     "name": "stdout",
     "output_type": "stream",
     "text": [
      "2000,2002,2004,2006,2008,2020,2022,2024,2026,2028,2040,2042,2044,2046,2048,2060,2062,2064,2066,2068,2080,2082,2084,2086,2088,2200,2202,2204,2206,2208,2220,2222,2224,2226,2228,2240,2242,2244,2246,2248,2260,2262,2264,2266,2268,2280,2282,2284,2286,2288,2400,2402,2404,2406,2408,2420,2422,2424,2426,2428,2440,2442,2444,2446,2448,2460,2462,2464,2466,2468,2480,2482,2484,2486,2488,2600,2602,2604,2606,2608,2620,2622,2624,2626,2628,2640,2642,2644,2646,2648,2660,2662,2664,2666,2668,2680,2682,2684,2686,2688,2800,2802,2804,2806,2808,2820,2822,2824,2826,2828,2840,2842,2844,2846,2848,2860,2862,2864,2866,2868,2880,2882,2884,2886,2888\n"
     ]
    }
   ],
   "source": [
    "values = []\n",
    "for i in range(1000, 3001):\n",
    "    s = str(i)\n",
    "    if (int(s[0])%2==0) and (int(s[1])%2==0) and (int(s[2])%2==0) and (int(s[3])%2==0):\n",
    "        values.append(s)\n",
    "print (\",\".join(values))"
   ]
  },
  {
   "cell_type": "markdown",
   "id": "62e6ddcc",
   "metadata": {},
   "source": [
    "# Question 13\n",
    "# Write a program that accepts a sentence and calculate the number of letters and digits. Suppose the following input is supplied to the program:\n",
    "\n",
    "# hello world! 123\n",
    "# Then, the output should be:\n",
    "\n",
    "# LETTERS 10\n",
    "# DIGITS 3"
   ]
  },
  {
   "cell_type": "code",
   "execution_count": 23,
   "id": "d0a510fc",
   "metadata": {},
   "outputs": [
    {
     "name": "stdout",
     "output_type": "stream",
     "text": [
      "hello world!123\n",
      "DIGITS 3\n",
      "LETTERS 10\n",
      "SPACE 1\n"
     ]
    }
   ],
   "source": [
    "text_input = input()\n",
    "\n",
    "d={\"DIGITS\":0, \"LETTERS\":0,'SPACE':0}\n",
    "d['DIGITS']= sum(c.isdigit() for c in text_input)\n",
    "d['LETTERS']= sum(c.isalpha() for c in text_input)\n",
    "d['SPACE']  = sum(c.isspace() for c in text_input)\n",
    "\n",
    "for k,v in d.items():\n",
    "    print(k,v)"
   ]
  },
  {
   "cell_type": "markdown",
   "id": "c9525582",
   "metadata": {},
   "source": [
    "# Question 14\n",
    "# Write a program that accepts a sentence and calculate the number of upper case letters and lower case letters. Suppose the following input is supplied to the program:\n",
    "\n",
    "# Hello world!\n",
    "# Then, the output should be:\n",
    "\n",
    "# UPPER CASE 1\n",
    "# LOWER CASE 9"
   ]
  },
  {
   "cell_type": "code",
   "execution_count": 3,
   "id": "e775f15e",
   "metadata": {
    "scrolled": true
   },
   "outputs": [
    {
     "name": "stdout",
     "output_type": "stream",
     "text": [
      "Hello world!\n",
      "UPPER CASE 1\n",
      "LOWER CASE 9\n"
     ]
    }
   ],
   "source": [
    "text_input = input()\n",
    "d={\"UPPER CASE\":0, \"LOWER CASE\":0}\n",
    "for c in text_input:\n",
    "    if c.isupper():\n",
    "        d[\"UPPER CASE\"]+=1\n",
    "    elif c.islower():\n",
    "        d[\"LOWER CASE\"]+=1\n",
    "    else:\n",
    "        pass\n",
    "print (\"UPPER CASE\", d[\"UPPER CASE\"])\n",
    "print (\"LOWER CASE\", d[\"LOWER CASE\"])"
   ]
  },
  {
   "cell_type": "markdown",
   "id": "fca3fe7b",
   "metadata": {},
   "source": [
    "# Question 15\n",
    "# Write a program that computes the value of a+aa+aaa+aaaa with a given digit as the value of a. Suppose the following input is supplied to the program:\n",
    "\n",
    "# 9\n",
    "# Then, the output should be:\n",
    "\n",
    "# 11106"
   ]
  },
  {
   "cell_type": "code",
   "execution_count": 4,
   "id": "bbde283f",
   "metadata": {},
   "outputs": [
    {
     "name": "stdout",
     "output_type": "stream",
     "text": [
      "9\n",
      "11106\n"
     ]
    }
   ],
   "source": [
    "result=0\n",
    "number=input()\n",
    "for x in range(1,5):\n",
    "    result+=int(str(number)*x)\n",
    "print(result)"
   ]
  },
  {
   "cell_type": "code",
   "execution_count": 5,
   "id": "124439e2",
   "metadata": {},
   "outputs": [
    {
     "name": "stdout",
     "output_type": "stream",
     "text": [
      "9\n",
      "11106\n"
     ]
    }
   ],
   "source": [
    " a = input()\n",
    " n1 = int( \"%s\" % a )\n",
    " n2 = int( \"%s%s\" % (a,a) )\n",
    " n3 = int( \"%s%s%s\" % (a,a,a) )\n",
    " n4 = int( \"%s%s%s%s\" % (a,a,a,a) )\n",
    " print(n1+n2+n3+n4)"
   ]
  },
  {
   "cell_type": "markdown",
   "id": "288ab773",
   "metadata": {},
   "source": [
    "## Question 16\n",
    "# Use a list comprehension to select each odd number in a list. The list is input by a sequence of comma-separated numbers. Suppose the following input is supplied to the program:\n",
    "\n",
    "# 1,2,3,4,5,6,7,8,9\n",
    "# Then, the output should be:\n",
    "\n",
    "# 1,3,5,7,9\n"
   ]
  },
  {
   "cell_type": "code",
   "execution_count": 6,
   "id": "256522da",
   "metadata": {},
   "outputs": [
    {
     "name": "stdout",
     "output_type": "stream",
     "text": [
      "1,2,3,4,5,6,7,8,9\n",
      "1,3,5,7,9\n"
     ]
    }
   ],
   "source": [
    "values = input()\n",
    "numbers = [x for x in values.split(\",\") if int(x)%2!=0]\n",
    "print (\",\".join(numbers))"
   ]
  },
  {
   "cell_type": "markdown",
   "id": "3cd5e013",
   "metadata": {},
   "source": [
    "# Question 17\n",
    "# Question: Write a program that computes the net amount of a bank account based a transaction log from console input. The transaction log format is shown as following:\n",
    "\n",
    "# D 100\n",
    "# W 200\n",
    "# D means deposit while W means withdrawal. Suppose the following input is supplied to the program:\n",
    "\n",
    "# D 300\n",
    "# D 300\n",
    "# W 200\n",
    "# D 100\n",
    "\n",
    "# Then, the output should be:\n",
    "\n",
    "# 500"
   ]
  },
  {
   "cell_type": "code",
   "execution_count": 19,
   "id": "6f4eaef0",
   "metadata": {},
   "outputs": [
    {
     "name": "stdout",
     "output_type": "stream",
     "text": [
      "D 100200\n"
     ]
    },
    {
     "ename": "IndexError",
     "evalue": "list index out of range",
     "output_type": "error",
     "traceback": [
      "\u001b[1;31m---------------------------------------------------------------------------\u001b[0m",
      "\u001b[1;31mIndexError\u001b[0m                                Traceback (most recent call last)",
      "Cell \u001b[1;32mIn[19], line 8\u001b[0m\n\u001b[0;32m      6\u001b[0m values \u001b[38;5;241m=\u001b[39m s\u001b[38;5;241m.\u001b[39msplit(\u001b[38;5;124m\"\u001b[39m\u001b[38;5;124m \u001b[39m\u001b[38;5;124m\"\u001b[39m)\n\u001b[0;32m      7\u001b[0m operation \u001b[38;5;241m=\u001b[39m values[\u001b[38;5;241m0\u001b[39m]\n\u001b[1;32m----> 8\u001b[0m amount \u001b[38;5;241m=\u001b[39m \u001b[38;5;28mint\u001b[39m(\u001b[43mvalues\u001b[49m\u001b[43m[\u001b[49m\u001b[38;5;241;43m1\u001b[39;49m\u001b[43m]\u001b[49m)\n\u001b[0;32m      9\u001b[0m \u001b[38;5;28;01mif\u001b[39;00m operation\u001b[38;5;241m==\u001b[39m\u001b[38;5;124m\"\u001b[39m\u001b[38;5;124mD\u001b[39m\u001b[38;5;124m\"\u001b[39m:\n\u001b[0;32m     10\u001b[0m     netAmount\u001b[38;5;241m+\u001b[39m\u001b[38;5;241m=\u001b[39mamount\n",
      "\u001b[1;31mIndexError\u001b[0m: list index out of range"
     ]
    }
   ],
   "source": [
    "netAmount =0\n",
    "while True:\n",
    "    s = input('D 100')\n",
    "    if not s:\n",
    "        break\n",
    "    values = s.split(\" \")\n",
    "    operation = values[0]\n",
    "    amount = int(values[1])\n",
    "    if operation==\"D\":\n",
    "        netAmount+=amount\n",
    "    elif operation==\"W\":\n",
    "        netAmount-=amount\n",
    "    else:\n",
    "        pass\n",
    "print(netAmount)"
   ]
  },
  {
   "cell_type": "code",
   "execution_count": 21,
   "id": "15a139b0",
   "metadata": {},
   "outputs": [
    {
     "name": "stdout",
     "output_type": "stream",
     "text": [
      "D 100W200\n"
     ]
    },
    {
     "ename": "IndexError",
     "evalue": "list index out of range",
     "output_type": "error",
     "traceback": [
      "\u001b[1;31m---------------------------------------------------------------------------\u001b[0m",
      "\u001b[1;31mIndexError\u001b[0m                                Traceback (most recent call last)",
      "Cell \u001b[1;32mIn[21], line 8\u001b[0m\n\u001b[0;32m      6\u001b[0m values \u001b[38;5;241m=\u001b[39m s\u001b[38;5;241m.\u001b[39msplit(\u001b[38;5;124m\"\u001b[39m\u001b[38;5;124m200 \u001b[39m\u001b[38;5;124m\"\u001b[39m)\n\u001b[0;32m      7\u001b[0m operation \u001b[38;5;241m=\u001b[39m values[\u001b[38;5;241m0\u001b[39m]\n\u001b[1;32m----> 8\u001b[0m amount \u001b[38;5;241m=\u001b[39m \u001b[38;5;28mint\u001b[39m(\u001b[43mvalues\u001b[49m\u001b[43m[\u001b[49m\u001b[38;5;241;43m1\u001b[39;49m\u001b[43m]\u001b[49m)\n\u001b[0;32m      9\u001b[0m \u001b[38;5;28;01mif\u001b[39;00m operation\u001b[38;5;241m==\u001b[39m\u001b[38;5;124m\"\u001b[39m\u001b[38;5;124mD\u001b[39m\u001b[38;5;124m\"\u001b[39m:\n\u001b[0;32m     10\u001b[0m     netAmount\u001b[38;5;241m+\u001b[39m\u001b[38;5;241m=\u001b[39mamount\n",
      "\u001b[1;31mIndexError\u001b[0m: list index out of range"
     ]
    }
   ],
   "source": [
    "netAmount =0\n",
    "while True:\n",
    "    s = input('D 100')\n",
    "    if not s:\n",
    "        break\n",
    "    values = s.split(\"200 \")\n",
    "    operation = values[0]\n",
    "    amount = int(values[1])\n",
    "    if operation==\"D\":\n",
    "        netAmount+=amount\n",
    "    elif operation==\"W\":\n",
    "        netAmount-=amount\n",
    "    else:\n",
    "        pass\n",
    "print(netAmount)"
   ]
  },
  {
   "cell_type": "code",
   "execution_count": null,
   "id": "cd4218de",
   "metadata": {},
   "outputs": [],
   "source": [
    "# Initialize the balance to 0\n",
    "balance = 0\n",
    "\n",
    "# Continuously read input until an empty line is entered\n",
    "while True:\n",
    "    # Read a transaction from the user\n",
    "    transaction = input(\"Enter transaction (e.g., 'D 100' or 'W 200'): \")\n",
    "\n",
    "    # Break the loop if an empty line is entered\n",
    "    if not transaction:\n",
    "        break\n",
    "\n",
    "    # Split the transaction into its type ('D' or 'W') and amount\n",
    "    trans_type, amount_str = transaction.split()\n",
    "    amount = int(amount_str)\n",
    "\n",
    "    # Update the balance based on the transaction type\n",
    "    if trans_type == 'D':\n",
    "        balance += amount\n",
    "    elif trans_type == 'W':\n",
    "        balance -= amount\n",
    "    else:\n",
    "        print(\"Invalid transaction type. Please use 'D' for deposit or 'W' for withdrawal.\")\n",
    "\n",
    "# Print the net amount\n",
    "print(\"Net Amount:\", balance)"
   ]
  },
  {
   "cell_type": "code",
   "execution_count": 2,
   "id": "291d31c1",
   "metadata": {},
   "outputs": [
    {
     "name": "stdout",
     "output_type": "stream",
     "text": [
      "D100\n"
     ]
    },
    {
     "ename": "ValueError",
     "evalue": "not enough values to unpack (expected 2, got 1)",
     "output_type": "error",
     "traceback": [
      "\u001b[1;31m---------------------------------------------------------------------------\u001b[0m",
      "\u001b[1;31mValueError\u001b[0m                                Traceback (most recent call last)",
      "Cell \u001b[1;32mIn[2], line 6\u001b[0m\n\u001b[0;32m      4\u001b[0m \u001b[38;5;28;01mif\u001b[39;00m \u001b[38;5;129;01mnot\u001b[39;00m s:            \u001b[38;5;66;03m# break if the string is empty\u001b[39;00m\n\u001b[0;32m      5\u001b[0m     \u001b[38;5;28;01mbreak\u001b[39;00m\n\u001b[1;32m----> 6\u001b[0m cm,num \u001b[38;5;241m=\u001b[39m \u001b[38;5;28mmap\u001b[39m(\u001b[38;5;28mstr\u001b[39m,s)    \u001b[38;5;66;03m# two inputs are distributed in cm and num in string data type\u001b[39;00m\n\u001b[0;32m      8\u001b[0m \u001b[38;5;28;01mif\u001b[39;00m cm\u001b[38;5;241m==\u001b[39m\u001b[38;5;124m'\u001b[39m\u001b[38;5;124mD\u001b[39m\u001b[38;5;124m'\u001b[39m:\n\u001b[0;32m      9\u001b[0m     total\u001b[38;5;241m+\u001b[39m\u001b[38;5;241m=\u001b[39m\u001b[38;5;28mint\u001b[39m(num)\n",
      "\u001b[1;31mValueError\u001b[0m: not enough values to unpack (expected 2, got 1)"
     ]
    }
   ],
   "source": [
    "total = 0\n",
    "while True:\n",
    "    s = input().split()\n",
    "    if not s:            # break if the string is empty\n",
    "        break\n",
    "    cm,num = map(str,s)    # two inputs are distributed in cm and num in string data type\n",
    "\n",
    "    if cm=='D':\n",
    "        total+=int(num)\n",
    "    if cm=='W':\n",
    "        total-=int(num)\n",
    "\n",
    "print(total)"
   ]
  },
  {
   "cell_type": "markdown",
   "id": "ebdf6876",
   "metadata": {},
   "source": [
    "# Question 18\n",
    "# A website requires the users to input username and password to register. Write a program to check the validity of password input by users. Following are the criteria for checking the password:\n",
    "\n",
    "# At least 1 letter between [a-z]\n",
    "# At least 1 number between [0-9]\n",
    "# At least 1 letter between [A-Z]\n",
    "# At least 1 character from [dollar,at the rate,hashtag]\n",
    "# Minimum length of transaction password: 6\n",
    "# Maximum length of transaction password: 12\n",
    "# Your program should accept a sequence of comma separated passwords and will check them according to the above criteria. Passwords that match the criteria are to be printed, each separated by a comma.\n",
    "\n",
    "# If the following passwords are given as input to the program:\n",
    "\n",
    "# ABd1234@1,a F1#,2w3E*,2We3345\n",
    "# Then, the output of the program should be:\n",
    "\n",
    "# ABd1234@1\n",
    "\n"
   ]
  },
  {
   "cell_type": "code",
   "execution_count": 3,
   "id": "24562705",
   "metadata": {},
   "outputs": [
    {
     "name": "stdout",
     "output_type": "stream",
     "text": [
      "Abc@123\n",
      "Abc@123\n"
     ]
    }
   ],
   "source": [
    "import re\n",
    "\n",
    "value = []\n",
    "items=[x for x in input().split(',')]\n",
    "for p in items: \n",
    "    if (len(p)<6 or len(p)>12):\n",
    "        break\n",
    "    elif not re.search(\"[a-z]\",p):\n",
    "        break\n",
    "    elif not re.search(\"[0-9]\",p):\n",
    "        break\n",
    "    elif not re.search(\"[A-Z]\",p):\n",
    "        break\n",
    "    elif not re.search(\"[$#@]\",p):\n",
    "        break\n",
    "    elif re.search(\"\\s\",p):\n",
    "        break\n",
    "    else:\n",
    "        value.append(p)\n",
    "        break\n",
    "\n",
    "print (\",\".join(value))"
   ]
  },
  {
   "cell_type": "code",
   "execution_count": null,
   "id": "de7b7d90",
   "metadata": {},
   "outputs": [],
   "source": [
    "import re\n",
    "value = []\n",
    "items=[x for x in input().split(',')]\n",
    "for p in items:\n",
    "    if len(p)<6 or len(p)>12:\n",
    "        continue\n",
    "    else:\n",
    "        pass\n",
    "    if not re.search(\"[a-z]\",p):\n",
    "        continue\n",
    "    elif not re.search(\"[0-9]\",p):\n",
    "        continue\n",
    "    elif not re.search(\"[A-Z]\",p):\n",
    "        continue\n",
    "    elif not re.search(\"[$#@]\",p):\n",
    "        continue\n",
    "    elif re.search(\"\\s\",p):\n",
    "        continue\n",
    "    else:\n",
    "        pass\n",
    "    value.append(p)\n",
    "print (\",\".join(value))"
   ]
  },
  {
   "cell_type": "markdown",
   "id": "eb1a398d",
   "metadata": {},
   "source": [
    "# Question 19\n",
    "# You are required to write a program to sort the (name, age, height) tuples by ascending order where name is string, age and height are numbers. The tuples are input by console. The sort criteria is: 1: Sort based on name; 2: Then sort based on age; 3: Then sort by score. The priority is that name > age > score. If the following tuples are given as input to the program:\n",
    "\n",
    "# Tom,19,80\n",
    "# John,20,90\n",
    "# Jony,17,91\n",
    "# Jony,17,93\n",
    "# Json,21,85\n",
    "# Then, the output should be:\n",
    "\n",
    "# [('John', '20', '90'), ('Jony', '17', '91'), ('Jony', '17', '93'), ('Json', '21', '85'), ('Tom', '19', '80')]"
   ]
  },
  {
   "cell_type": "code",
   "execution_count": 6,
   "id": "cad169aa",
   "metadata": {},
   "outputs": [
    {
     "name": "stdout",
     "output_type": "stream",
     "text": [
      "('John', '20', '90')\n",
      "('Jony', '17', '91'\n",
      "('Jony', '17', '91'\n",
      "('Json', '21', '85')\n",
      "('Tom','19', '80')\n",
      "\n",
      "[(\"('John'\", \" '20'\", \" '90')\"), (\"('Jony'\", \" '17'\", \" '91'\"), (\"('Jony'\", \" '17'\", \" '91'\"), (\"('Json'\", \" '21'\", \" '85')\"), (\"('Tom'\", \"'19'\", \" '80')\")]\n"
     ]
    }
   ],
   "source": [
    "lst = []\n",
    "while True:\n",
    "    s = input().split(',')\n",
    "    if not s[0]:                          # breaks for blank input\n",
    "        break\n",
    "    lst.append(tuple(s))\n",
    "\n",
    "lst.sort(key= lambda x:(x[0],x[1],x[2]))  # here key is defined by lambda and the data is sorted by element priority 0>1>2 in accending order\n",
    "print(lst)"
   ]
  },
  {
   "cell_type": "markdown",
   "id": "c1897e33",
   "metadata": {},
   "source": [
    "# Question 20\n",
    "# Define a class with a generator which can iterate the numbers, which are divisible by 7, between a given range 0 and n."
   ]
  },
  {
   "cell_type": "code",
   "execution_count": 7,
   "id": "69d1d174",
   "metadata": {},
   "outputs": [
    {
     "name": "stdout",
     "output_type": "stream",
     "text": [
      "54\n",
      "[0, 7, 14, 21, 28, 35, 42, 49]\n"
     ]
    }
   ],
   "source": [
    "class Test:\n",
    "    def generator(self,n):\n",
    "        return [i for i in range(n) if i%7==0]   # returns the values as a list if an element is divisible by 7\n",
    "\n",
    "n = int(input())\n",
    "num = Test()\n",
    "lst = num.generator(n)\n",
    "print(lst)"
   ]
  },
  {
   "cell_type": "markdown",
   "id": "07050642",
   "metadata": {},
   "source": [
    "# Question 21\n",
    "# *A robot moves in a plane starting from the original point (0,0). The robot can move toward UP, DOWN, LEFT and RIGHT with a given steps. The trace of robot movement is shown as the following:*\n",
    "\n",
    "# UP 5\n",
    "# DOWN 3\n",
    "# LEFT 3\n",
    "# RIGHT 2\n",
    "# *The numbers after the direction are steps. Please write a program to compute the distance from current position after a sequence of movement and original point. If the distance is a float, then just print the nearest integer.*\n",
    "\n",
    "# *Example:* *If the following tuples are given as input to the program:*\n",
    "\n",
    "# UP 5\n",
    "# DOWN 3\n",
    "# LEFT 3\n",
    "# RIGHT 2\n",
    "# *Then, the output of the program should be:*\n",
    "\n",
    "# 2"
   ]
  },
  {
   "cell_type": "code",
   "execution_count": 12,
   "id": "288798b5",
   "metadata": {},
   "outputs": [
    {
     "name": "stdout",
     "output_type": "stream",
     "text": [
      "UP5\n",
      "DOWN3\n",
      "LEFT3\n",
      "RIGHT2\n",
      "\n",
      "0\n"
     ]
    }
   ],
   "source": [
    "import  math\n",
    "\n",
    "x,y = 0,0\n",
    "while True:\n",
    "    s = input().split()\n",
    "    if not s:\n",
    "        break\n",
    "    if s[0]=='UP':                  # s[0] indicates command\n",
    "        x-=int(s[1])                # s[1] indicates unit of move\n",
    "    if s[0]=='DOWN':\n",
    "        x+=int(s[1])\n",
    "    if s[0]=='LEFT':\n",
    "        y-=int(s[1])\n",
    "    if s[0]=='RIGHT':\n",
    "        y+=int(s[1])\n",
    "                                    # N**P means N^P\n",
    "dist = round(math.sqrt(x**2 + y**2))  # euclidean distance = square root of (x^2+y^2) and rounding it to nearest integer\n",
    "print(dist)"
   ]
  },
  {
   "cell_type": "markdown",
   "id": "3f54b56a",
   "metadata": {},
   "source": [
    "# Question 22\n",
    "# *Write a program to compute the frequency of the words from the input. The output should output after sorting the key alphanumerically.*\n",
    "\n",
    "# *Suppose the following input is supplied to the program:*\n",
    "\n",
    "# New to Python or choosing between Python 2 and Python 3? Read Python 2 or Python 3.\n",
    "# *Then, the output should be:*\n",
    "\n",
    "# 2:2\n",
    "# 3.:1\n",
    "# 3?:1\n",
    "# New:1\n",
    "# Python:5\n",
    "# Read:1\n",
    "# and:1\n",
    "# between:1\n",
    "# choosing:1\n",
    "# or:2\n",
    "# to:1"
   ]
  },
  {
   "cell_type": "code",
   "execution_count": 14,
   "id": "8b082f44",
   "metadata": {},
   "outputs": [
    {
     "name": "stdout",
     "output_type": "stream",
     "text": [
      "New to Python or choosing between Python 2 and Python 3? Read Python 2 or Python 3.\n",
      "2:2\n",
      "3.:1\n",
      "3?:1\n",
      "New:1\n",
      "Python:5\n",
      "Read:1\n",
      "and:1\n",
      "between:1\n",
      "choosing:1\n",
      "or:2\n",
      "to:1\n"
     ]
    }
   ],
   "source": [
    "ss = input().split()\n",
    "word = sorted(set(ss))     # split words are stored and sorted as a set\n",
    "\n",
    "for i in word:\n",
    "    print(\"{0}:{1}\".format(i,ss.count(i)))"
   ]
  },
  {
   "cell_type": "markdown",
   "id": "80b9ddb0",
   "metadata": {},
   "source": [
    "\n",
    " ss = input().split()\n",
    " dict = {}\n",
    " for i in ss:\n",
    "    i = dict.setdefault(i,ss.count(i))    # setdefault() function takes key & value to set it as dictionary.\n",
    "\n",
    " dict = sorted(dict.items())               # items() function returns both key & value of dictionary as a list\n",
    "                                          # and then sorted. The sort by default occurs in order of 1st -> 2nd key\n",
    " for i in dict:\n",
    "    print(\"%s:%d\"%(i[0],i[1]))"
   ]
  },
  {
   "cell_type": "markdown",
   "id": "a051c3d0",
   "metadata": {},
   "source": [
    "# Question 23\n",
    "# *Write a method which can calculate square value of number*"
   ]
  },
  {
   "cell_type": "code",
   "execution_count": 15,
   "id": "57745f97",
   "metadata": {},
   "outputs": [
    {
     "name": "stdout",
     "output_type": "stream",
     "text": [
      "4\n",
      "9\n"
     ]
    }
   ],
   "source": [
    "def square(num):\n",
    "    return num ** 2\n",
    "\n",
    "print(square(2))\n",
    "print(square(3))"
   ]
  },
  {
   "cell_type": "markdown",
   "id": "d92cb12e",
   "metadata": {},
   "source": [
    "# Question 24\n",
    "# *Python has many built-in functions, and if you do not know how to use it, you can read document online or find some books. But Python has a built-in document function for every built-in functions.*\n",
    "\n",
    "# *Please write a program to print some Python built-in functions documents, such as abs(), int(), raw_input()*\n",
    "\n",
    "# *And add document for your own function*"
   ]
  },
  {
   "cell_type": "code",
   "execution_count": 21,
   "id": "94babf06",
   "metadata": {},
   "outputs": [
    {
     "name": "stdout",
     "output_type": "stream",
     "text": [
      "Return the absolute value of the argument.\n",
      "int([x]) -> integer\n",
      "int(x, base=10) -> integer\n",
      "\n",
      "Convert a number or string to an integer, or return 0 if no arguments\n",
      "are given.  If x is a number, return x.__int__().  For floating point\n",
      "numbers, this truncates towards zero.\n",
      "\n",
      "If x is not a number or if base is given, then x must be a string,\n",
      "bytes, or bytearray instance representing an integer literal in the\n",
      "given base.  The literal can be preceded by '+' or '-' and be surrounded\n",
      "by whitespace.  The base defaults to 10.  Valid bases are 0 and 2-36.\n",
      "Base 0 means to interpret the base from the string as an integer literal.\n",
      ">>> int('0b100', base=0)\n",
      "4\n",
      "4\n",
      "\n",
      "    Return the summation value of the input number.\n",
      "    The input number must be integer.\n",
      "    \n"
     ]
    }
   ],
   "source": [
    "print (abs.__doc__)\n",
    "print (int.__doc__)\n",
    "\n",
    "def summation(num):\n",
    "    '''\n",
    "    Return the summation value of the input number.\n",
    "    The input number must be integer.\n",
    "    '''\n",
    "    return num +2\n",
    "\n",
    "print (summation (2))\n",
    "print (summation.__doc__)"
   ]
  },
  {
   "cell_type": "markdown",
   "id": "29d5b011",
   "metadata": {},
   "source": [
    "# Question 25\n",
    "# *Define a class, which have a class parameter and have a same instance parameter.*"
   ]
  },
  {
   "cell_type": "code",
   "execution_count": 22,
   "id": "422c5284",
   "metadata": {},
   "outputs": [
    {
     "name": "stdout",
     "output_type": "stream",
     "text": [
      "Car name is Honda\n",
      "Car name is Toyota\n"
     ]
    }
   ],
   "source": [
    "class Car:\n",
    "    name = \"Car\"\n",
    "\n",
    "    def __init__(self,name = None):\n",
    "        self.name = name\n",
    "\n",
    "honda=Car(\"Honda\")\n",
    "print(\"%s name is %s\"%(Car.name,honda.name))\n",
    "\n",
    "toyota=Car()\n",
    "toyota.name=\"Toyota\"\n",
    "print(\"%s name is %s\"%(Car.name,toyota.name))"
   ]
  },
  {
   "cell_type": "code",
   "execution_count": null,
   "id": "ebf93bed",
   "metadata": {},
   "outputs": [],
   "source": [
    "class Person:\n",
    "    # Define the class parameter \"name\"\n",
    "    name = \"Person\"\n",
    "    \n",
    "    def __init__(self, name = None):\n",
    "        # self.name is the instance parameter\n",
    "        self.name = name\n",
    "\n",
    "jeffrey = Person(\"Jeffrey\")\n",
    "print (\"{0} name is {1}\".format(Person.name, jeffrey.name))\n",
    "\n",
    "nico = Person()\n",
    "nico.name = \"Nico\"\n",
    "print (f\"{Person.name} name is {nico.name}\")"
   ]
  },
  {
   "cell_type": "markdown",
   "id": "b5c98825",
   "metadata": {},
   "source": [
    "# Question 26\n",
    "# *Define a function which can compute the sum of two numbers.*"
   ]
  },
  {
   "cell_type": "code",
   "execution_count": 24,
   "id": "397c1b72",
   "metadata": {},
   "outputs": [
    {
     "name": "stdout",
     "output_type": "stream",
     "text": [
      "74\n"
     ]
    }
   ],
   "source": [
    "sum = lambda n1,n2 : n1 + n2      # here lambda is use to define little function as sum\n",
    "print(sum(12,62))"
   ]
  },
  {
   "cell_type": "markdown",
   "id": "64ac11f2",
   "metadata": {},
   "source": [
    "# Question 27\n",
    "# *Define a function that can convert a integer into a string and print it in console.*"
   ]
  },
  {
   "cell_type": "code",
   "execution_count": 25,
   "id": "5862b1db",
   "metadata": {},
   "outputs": [
    {
     "name": "stdout",
     "output_type": "stream",
     "text": [
      "10\n",
      "<class 'str'>\n"
     ]
    }
   ],
   "source": [
    "conv = lambda x : str(x)\n",
    "n = conv(10)\n",
    "print(n)\n",
    "print(type(n))  "
   ]
  },
  {
   "cell_type": "code",
   "execution_count": null,
   "id": "e6546c75",
   "metadata": {},
   "outputs": [],
   "source": [
    "def printValue(n):\n",
    "    print(str(n))\n",
    "\n",
    "printValue(3)"
   ]
  },
  {
   "cell_type": "markdown",
   "id": "35868dc2",
   "metadata": {},
   "source": [
    "# Question 28\n",
    "# *Define a function that can receive two integer numbers in string form and compute their sum and then print it in console.*"
   ]
  },
  {
   "cell_type": "code",
   "execution_count": 26,
   "id": "df3b4b20",
   "metadata": {},
   "outputs": [
    {
     "name": "stdout",
     "output_type": "stream",
     "text": [
      "55\n"
     ]
    }
   ],
   "source": [
    "sum = lambda s1,s2 : int(s1) + int(s2)\n",
    "print(sum(\"10\",\"45\"))      # 55"
   ]
  },
  {
   "cell_type": "markdown",
   "id": "89da0b35",
   "metadata": {},
   "source": [
    "# Question 30\n",
    "# *Define a function that can accept two strings as input and print the string with maximum length in console. If two strings have the same length, then the function should print all strings line by line.*"
   ]
  },
  {
   "cell_type": "code",
   "execution_count": 31,
   "id": "dbe32843",
   "metadata": {},
   "outputs": [
    {
     "name": "stdout",
     "output_type": "stream",
     "text": [
      "hello world\n",
      "hello\n",
      "world\n"
     ]
    }
   ],
   "source": [
    "def printVal(s1,s2):\n",
    "    len1 = len(s1)\n",
    "    len2 = len(s2)\n",
    "    if len1 > len2:\n",
    "        print(s1)\n",
    "    elif len1 < len2:\n",
    "        print(s2)\n",
    "    else:\n",
    "        print(s1)\n",
    "        print(s2)\n",
    "\n",
    "s1,s2=input().split()\n",
    "printVal(s1,s2)"
   ]
  },
  {
   "cell_type": "markdown",
   "id": "7b173d8b",
   "metadata": {},
   "source": [
    "# Question 31\n",
    "# *Define a function which can print a dictionary where the keys are numbers between 1 and 20 (both included) and the values are square of keys.*"
   ]
  },
  {
   "cell_type": "code",
   "execution_count": 32,
   "id": "b18db811",
   "metadata": {},
   "outputs": [
    {
     "name": "stdout",
     "output_type": "stream",
     "text": [
      "{1: 1, 2: 4, 3: 9, 4: 16, 5: 25, 6: 36, 7: 49, 8: 64, 9: 81, 10: 100, 11: 121, 12: 144, 13: 169, 14: 196, 15: 225, 16: 256, 17: 289, 18: 324, 19: 361, 20: 400}\n"
     ]
    }
   ],
   "source": [
    "def printDict():\n",
    "    dict={i:i**2 for i in range(1,21)}   # Using comprehension method and\n",
    "    print(dict)\n",
    "\n",
    "printDict()"
   ]
  },
  {
   "cell_type": "markdown",
   "id": "ddfb51b7",
   "metadata": {},
   "source": [
    "# Question 32\n",
    "# *Define a function which can generate a dictionary where the keys are numbers between 1 and 20 (both included) and the values are square of keys. The function should just print the keys only.*"
   ]
  },
  {
   "cell_type": "code",
   "execution_count": 33,
   "id": "ca52e897",
   "metadata": {},
   "outputs": [
    {
     "name": "stdout",
     "output_type": "stream",
     "text": [
      "dict_keys([1, 2, 3, 4, 5, 6, 7, 8, 9, 10, 11, 12, 13, 14, 15, 16, 17, 18, 19, 20])\n"
     ]
    }
   ],
   "source": [
    "def printDict():\n",
    "    dict = {i: i**2 for i in range(1, 21)}\n",
    "    print(dict.keys())      # print keys of a dictionary\n",
    "\n",
    "printDict()"
   ]
  },
  {
   "cell_type": "markdown",
   "id": "021aaabe",
   "metadata": {},
   "source": [
    "# Question 33\n",
    "# *Define a function which can generate and print a list where the values are square of numbers between 1 and 20 (both included).*"
   ]
  },
  {
   "cell_type": "code",
   "execution_count": 34,
   "id": "714c95cd",
   "metadata": {},
   "outputs": [
    {
     "name": "stdout",
     "output_type": "stream",
     "text": [
      "[1, 4, 9, 16, 25, 36, 49, 64, 81, 100, 121, 144, 169, 196, 225, 256, 289, 324, 361, 400]\n"
     ]
    }
   ],
   "source": [
    "def printList():\n",
    "    lst = [i ** 2 for i in range(1, 21)]\n",
    "    print(lst)\n",
    "\n",
    "printList()"
   ]
  },
  {
   "cell_type": "markdown",
   "id": "e475996f",
   "metadata": {},
   "source": [
    "# Question 34\n",
    "# *Define a function which can generate a list where the values are square of numbers between 1 and 20 (both included). Then the function needs to print the first 5 elements in the list.*"
   ]
  },
  {
   "cell_type": "code",
   "execution_count": 35,
   "id": "e6d0eb4a",
   "metadata": {},
   "outputs": [
    {
     "name": "stdout",
     "output_type": "stream",
     "text": [
      "[1, 4, 9, 16, 25]\n"
     ]
    }
   ],
   "source": [
    "def printList():\n",
    "    lst = [i ** 2 for i in range(1, 21)]\n",
    "    print(lst[:5])\n",
    "\n",
    "printList()"
   ]
  },
  {
   "cell_type": "markdown",
   "id": "78982f4d",
   "metadata": {},
   "source": [
    "# Question 35\n",
    "# *Define a function which can generate a list where the values are square of numbers between 1 and 20 (both included). Then the function needs to print the last 5 elements in the list."
   ]
  },
  {
   "cell_type": "code",
   "execution_count": 36,
   "id": "5a9e9855",
   "metadata": {},
   "outputs": [
    {
     "name": "stdout",
     "output_type": "stream",
     "text": [
      "[256, 289, 324, 361, 400]\n"
     ]
    }
   ],
   "source": [
    "def printList():\n",
    "    lst = [i ** 2 for i in range(1, 21)]\n",
    "    print(lst[-5:])\n",
    "\n",
    "printList()"
   ]
  },
  {
   "cell_type": "markdown",
   "id": "653e6368",
   "metadata": {},
   "source": [
    "# Question 36\n",
    "# *Define a function which can generate a list where the values are square of numbers between 1 and 20 (both included). Then the function needs to print all values except the first 5 elements in the list"
   ]
  },
  {
   "cell_type": "code",
   "execution_count": 37,
   "id": "c1e2b5eb",
   "metadata": {},
   "outputs": [
    {
     "name": "stdout",
     "output_type": "stream",
     "text": [
      "[36, 49, 64, 81, 100, 121, 144, 169, 196, 225, 256, 289, 324, 361, 400]\n"
     ]
    }
   ],
   "source": [
    "def printList():\n",
    "    lst = [i ** 2 for i in range(1, 21)]\n",
    "    print(lst[5:])\n",
    "\n",
    "printList()"
   ]
  },
  {
   "cell_type": "markdown",
   "id": "72c14533",
   "metadata": {},
   "source": [
    "# Question 37\n",
    "# *Define a function which can generate and print a tuple where the value are square of numbers between 1 and 20 (both included).*"
   ]
  },
  {
   "cell_type": "code",
   "execution_count": 38,
   "id": "60b67726",
   "metadata": {},
   "outputs": [
    {
     "name": "stdout",
     "output_type": "stream",
     "text": [
      "(1, 4, 9, 16, 25, 36, 49, 64, 81, 100, 121, 144, 169, 196, 225, 256, 289, 324, 361, 400)\n"
     ]
    }
   ],
   "source": [
    "def printTupple():\n",
    "    lst = [i ** 2 for i in range(1, 21)]\n",
    "    print(tuple(lst))\n",
    "\n",
    "printTupple()"
   ]
  },
  {
   "cell_type": "markdown",
   "id": "291a4b89",
   "metadata": {},
   "source": [
    "# Question 38\n",
    "# *With a given tuple (1,2,3,4,5,6,7,8,9,10), write a program to print the first half values in one line and the last half values in one line.*"
   ]
  },
  {
   "cell_type": "code",
   "execution_count": 39,
   "id": "be880c57",
   "metadata": {},
   "outputs": [
    {
     "name": "stdout",
     "output_type": "stream",
     "text": [
      "1 2 3 4 5 \n",
      "6 7 8 9 10 "
     ]
    }
   ],
   "source": [
    "tp = (1,2,3,4,5,6,7,8,9,10)\n",
    "\n",
    "for i in range(0,5):\n",
    "    print(tp[i],end = ' ')\n",
    "print()\n",
    "for i in range(5,10):\n",
    "    print(tp[i],end = ' ')\n",
    "\n",
    "# print(tp[:5])\n",
    "# pritn(tp[5:])"
   ]
  },
  {
   "cell_type": "markdown",
   "id": "f4046172",
   "metadata": {},
   "source": [
    "# Question 39\n",
    "# *Write a program to generate and print another tuple whose values are even numbers in the given tuple (1,2,3,4,5,6,7,8,9,10).*"
   ]
  },
  {
   "cell_type": "code",
   "execution_count": 40,
   "id": "ee987b3e",
   "metadata": {},
   "outputs": [
    {
     "name": "stdout",
     "output_type": "stream",
     "text": [
      "(2, 4, 6, 8, 10)\n"
     ]
    }
   ],
   "source": [
    "tpl = (1,2,3,4,5,6,7,8,9,10)\n",
    "tpl1 = tuple(filter(lambda x : x%2==0,tpl))  # Lambda function returns True if found even element.\n",
    "                                             # Filter removes data for which function returns False\n",
    "print(tpl1)"
   ]
  },
  {
   "cell_type": "markdown",
   "id": "ef347615",
   "metadata": {},
   "source": [
    "tpl = (1,2,3,4,5,6,7,8,9,10)\n",
    "tpl1 = tuple(i for i in tpl if i%2 == 0)\n",
    "print(tpl1)"
   ]
  },
  {
   "cell_type": "markdown",
   "id": "9df7adf1",
   "metadata": {},
   "source": [
    "# Question 40\n",
    "# *Write a program which accepts a string as input to print \"Yes\" if the string is \"yes\" or \"YES\" or \"Yes\", otherwise print \"No\".*"
   ]
  },
  {
   "cell_type": "code",
   "execution_count": 41,
   "id": "eb3e1abe",
   "metadata": {},
   "outputs": [
    {
     "name": "stdout",
     "output_type": "stream",
     "text": [
      "yes\n",
      "Yes\n"
     ]
    }
   ],
   "source": [
    "# Maybe lower or upper function\n",
    "s= input()\n",
    "if s==\"yes\" or s==\"YES\" or s==\"Yes\":\n",
    "    print (\"Yes\")\n",
    "else:\n",
    "    print (\"No\")"
   ]
  },
  {
   "cell_type": "code",
   "execution_count": 42,
   "id": "ed4829b3",
   "metadata": {},
   "outputs": [
    {
     "name": "stdout",
     "output_type": "stream",
     "text": [
      "noo\n",
      "No\n"
     ]
    }
   ],
   "source": [
    "s= input()\n",
    "if s==\"yes\" or s==\"YES\" or s==\"Yes\":\n",
    "    print (\"Yes\")\n",
    "else:\n",
    "    print (\"No\")"
   ]
  },
  {
   "cell_type": "markdown",
   "id": "502538f3",
   "metadata": {},
   "source": [
    "# Question 41\n",
    "# *Write a program which can map() to make a list whose elements are square of elements in [1,2,3,4,5,6,7,8,9,10].*"
   ]
  },
  {
   "cell_type": "code",
   "execution_count": 43,
   "id": "64b5a9a7",
   "metadata": {},
   "outputs": [
    {
     "name": "stdout",
     "output_type": "stream",
     "text": [
      "Original list:  [1, 2, 3, 4, 5, 6, 7, 8, 9, 10]\n",
      "[1, 4, 9, 16, 25, 36, 49, 64, 81, 100]\n"
     ]
    }
   ],
   "source": [
    "lst=[i for i in range(1,11)]\n",
    "lst_square = list(map(lambda x:x*x,lst))\n",
    "print(\"Original list: \",lst)\n",
    "print(lst_square)"
   ]
  },
  {
   "cell_type": "markdown",
   "id": "dbcff89d",
   "metadata": {},
   "source": [
    "# Question 42\n",
    "# *Write a program which can map() and filter() to make a list whose elements are square of even number in [1,2,3,4,5,6,7,8,9,10].*"
   ]
  },
  {
   "cell_type": "code",
   "execution_count": 44,
   "id": "9327fdf0",
   "metadata": {},
   "outputs": [
    {
     "name": "stdout",
     "output_type": "stream",
     "text": [
      "Original list:  [1, 2, 3, 4, 5, 6, 7, 8, 9, 10]\n",
      "[4, 16, 36, 64, 100]\n"
     ]
    }
   ],
   "source": [
    "lst=[i for i in range(1,11)]\n",
    "even_numbers = list(map(lambda x: x**2, filter(lambda x: x%2==0, lst)))\n",
    "print(\"Original list: \",lst)\n",
    "print(even_numbers)"
   ]
  },
  {
   "cell_type": "code",
   "execution_count": 45,
   "id": "b9e458e5",
   "metadata": {},
   "outputs": [
    {
     "name": "stdout",
     "output_type": "stream",
     "text": [
      "Original list:  [1, 2, 3, 4, 5, 6, 7, 8, 9, 10]\n",
      "[4, 16, 36, 64, 100]\n"
     ]
    }
   ],
   "source": [
    "def even(x):\n",
    "    return x%2==0\n",
    "\n",
    "def squer(x):\n",
    "    return x*x\n",
    "\n",
    "lst=[i for i in range(1,11)]\n",
    "even_numbers = list(map(squer,filter(even,lst)))\n",
    "print(\"Original list: \",lst)\n",
    "print(even_numbers)"
   ]
  },
  {
   "cell_type": "markdown",
   "id": "12b2dcdb",
   "metadata": {},
   "source": [
    "# Question 43\n",
    "# *Write a program which can filter() to make a list whose elements are even number between 1 and 20 (both included).*"
   ]
  },
  {
   "cell_type": "code",
   "execution_count": 46,
   "id": "e687b1d8",
   "metadata": {},
   "outputs": [
    {
     "name": "stdout",
     "output_type": "stream",
     "text": [
      "[2, 4, 6, 8, 10, 12, 14, 16, 18, 20]\n"
     ]
    }
   ],
   "source": [
    "even_numbers = list(filter(lambda x: x%2==0, range(1,21)))\n",
    "print(even_numbers)"
   ]
  },
  {
   "cell_type": "markdown",
   "id": "7f4d89ec",
   "metadata": {},
   "source": [
    "# Question 44\n",
    "# *Write a program which can map() to make a list whose elements are square of numbers between 1 and 20 (both included).*"
   ]
  },
  {
   "cell_type": "code",
   "execution_count": 47,
   "id": "313747a3",
   "metadata": {},
   "outputs": [
    {
     "name": "stdout",
     "output_type": "stream",
     "text": [
      "(1, 4, 9, 16, 25, 36, 49, 64, 81, 100, 121, 144, 169, 196, 225, 256, 289, 324, 361, 400)\n"
     ]
    }
   ],
   "source": [
    "squaredNumbers = tuple(map(lambda x: x**2, range(1,21)))\n",
    "print(squaredNumbers)"
   ]
  },
  {
   "cell_type": "markdown",
   "id": "b2cf3139",
   "metadata": {},
   "source": [
    "# Question 45\n",
    "# *Define a class named American which has a static method called printNationality.*"
   ]
  },
  {
   "cell_type": "code",
   "execution_count": 48,
   "id": "93fa069d",
   "metadata": {},
   "outputs": [],
   "source": [
    "class American():\n",
    "    @staticmethod      #  No need to take self as argument\n",
    "    def printNationality(): \n",
    "        print(\"I am American\")"
   ]
  },
  {
   "cell_type": "code",
   "execution_count": 49,
   "id": "bb788282",
   "metadata": {},
   "outputs": [
    {
     "name": "stdout",
     "output_type": "stream",
     "text": [
      "I am American\n"
     ]
    }
   ],
   "source": [
    "american = American()\n",
    "american.printNationality() "
   ]
  },
  {
   "cell_type": "code",
   "execution_count": 50,
   "id": "53064c21",
   "metadata": {},
   "outputs": [
    {
     "name": "stdout",
     "output_type": "stream",
     "text": [
      "I am American\n"
     ]
    }
   ],
   "source": [
    "american.printNationality()"
   ]
  },
  {
   "cell_type": "markdown",
   "id": "cb43c94c",
   "metadata": {},
   "source": [
    "# Question 46\n",
    "# *Define a class named American and its subclass NewYorker.*"
   ]
  },
  {
   "cell_type": "code",
   "execution_count": 51,
   "id": "18e6f916",
   "metadata": {},
   "outputs": [
    {
     "name": "stdout",
     "output_type": "stream",
     "text": [
      "<__main__.American object at 0x00000141260023E0>\n",
      "<__main__.NewYorker object at 0x00000141260030A0>\n"
     ]
    }
   ],
   "source": [
    "class American:\n",
    "    pass\n",
    "\n",
    "class NewYorker(American):\n",
    "    pass\n",
    "\n",
    "american = American()\n",
    "newyorker = NewYorker()\n",
    "\n",
    "print(american)\n",
    "print(newyorker)"
   ]
  },
  {
   "cell_type": "markdown",
   "id": "230c140c",
   "metadata": {},
   "source": [
    "# Question 47\n",
    "# *Define a class named Circle which can be constructed by a radius. The Circle class has a method which can compute the area.*\n",
    "\n"
   ]
  },
  {
   "cell_type": "code",
   "execution_count": 52,
   "id": "9c9a191b",
   "metadata": {},
   "outputs": [],
   "source": [
    "class Circle:\n",
    "    def __init__(self,radius):\n",
    "        self.radius = radius\n",
    "    def area(self):\n",
    "        return (self.radius**2*3.14)"
   ]
  },
  {
   "cell_type": "code",
   "execution_count": 54,
   "id": "39209052",
   "metadata": {},
   "outputs": [
    {
     "name": "stdout",
     "output_type": "stream",
     "text": [
      "200.96\n"
     ]
    }
   ],
   "source": [
    "circle = Circle(8)\n",
    "print(circle.area())"
   ]
  },
  {
   "cell_type": "markdown",
   "id": "8ba7876f",
   "metadata": {},
   "source": [
    "# Question 48\n",
    "# *Define a class named Rectangle which can be constructed by a length and width. The Rectangle class has a method which can compute the area.*"
   ]
  },
  {
   "cell_type": "code",
   "execution_count": 55,
   "id": "538fe832",
   "metadata": {},
   "outputs": [
    {
     "data": {
      "text/plain": [
       "24"
      ]
     },
     "execution_count": 55,
     "metadata": {},
     "output_type": "execute_result"
    }
   ],
   "source": [
    "class Rectangle():\n",
    "    def __init__(self,l,w):\n",
    "        self.length = l\n",
    "        self.width = w\n",
    "\n",
    "    def area(self):\n",
    "        return self.length*self.width\n",
    "\n",
    "my_rectangle = Rectangle(4,6)\n",
    "my_rectangle.area()"
   ]
  },
  {
   "cell_type": "markdown",
   "id": "155c6009",
   "metadata": {},
   "source": [
    "# Question 49\n",
    "# *Define a class named Shape and its subclass Square. The Square class has an init function which takes a length as argument. Both classes have a area function which can print the area of the shape where Shape's area is 0 by default.*"
   ]
  },
  {
   "cell_type": "code",
   "execution_count": 56,
   "id": "cc4adefa",
   "metadata": {},
   "outputs": [
    {
     "name": "stdout",
     "output_type": "stream",
     "text": [
      "25\n",
      "0\n"
     ]
    }
   ],
   "source": [
    "class Shape():\n",
    "    def __init__(self):\n",
    "        pass\n",
    "\n",
    "    def area(self):\n",
    "        return 0\n",
    "\n",
    "class Square(Shape):\n",
    "    def __init__(self,length = 0):\n",
    "        Shape.__init__(self)\n",
    "        self.length = length\n",
    "\n",
    "    def area(self):\n",
    "        return self.length*self.length\n",
    "    \n",
    "Asqr = Square(5)\n",
    "print(Asqr.area())      # prints 25 as given argument\n",
    "\n",
    "print(Square().area())  # prints zero as default area\n"
   ]
  },
  {
   "cell_type": "markdown",
   "id": "52c9a6d2",
   "metadata": {},
   "source": [
    "# Question 50\n",
    "# *Please raise a RuntimeError exception.*"
   ]
  },
  {
   "cell_type": "code",
   "execution_count": 57,
   "id": "799ab204",
   "metadata": {},
   "outputs": [
    {
     "ename": "RuntimeError",
     "evalue": "something wrong",
     "output_type": "error",
     "traceback": [
      "\u001b[1;31m---------------------------------------------------------------------------\u001b[0m",
      "\u001b[1;31mRuntimeError\u001b[0m                              Traceback (most recent call last)",
      "Cell \u001b[1;32mIn[57], line 1\u001b[0m\n\u001b[1;32m----> 1\u001b[0m \u001b[38;5;28;01mraise\u001b[39;00m \u001b[38;5;167;01mRuntimeError\u001b[39;00m(\u001b[38;5;124m'\u001b[39m\u001b[38;5;124msomething wrong\u001b[39m\u001b[38;5;124m'\u001b[39m)\n",
      "\u001b[1;31mRuntimeError\u001b[0m: something wrong"
     ]
    }
   ],
   "source": [
    "raise RuntimeError('something wrong')"
   ]
  },
  {
   "cell_type": "markdown",
   "id": "d2f7fc5e",
   "metadata": {},
   "source": [
    "# Question 51\n",
    "# *Write a function to compute 5/0 and use try/except to catch the exceptions.*"
   ]
  },
  {
   "cell_type": "code",
   "execution_count": 58,
   "id": "d78d246f",
   "metadata": {},
   "outputs": [
    {
     "name": "stdout",
     "output_type": "stream",
     "text": [
      "Why on earth you are dividing a number by ZERO!!\n"
     ]
    }
   ],
   "source": [
    "def divide():\n",
    "    return 5/0\n",
    "try:\n",
    "    divide()\n",
    "except ZeroDivisionError as ze:\n",
    "    print(\"Why on earth you are dividing a number by ZERO!!\")\n",
    "except Exception(err):\n",
    "    print(\"Any other exception\")"
   ]
  },
  {
   "cell_type": "markdown",
   "id": "adbeb1b9",
   "metadata": {},
   "source": [
    "# Question 52\n",
    "# *Define a custom exception class which takes a string message as attribute.*"
   ]
  },
  {
   "cell_type": "code",
   "execution_count": 65,
   "id": "8bbec1f4",
   "metadata": {},
   "outputs": [
    {
     "name": "stdout",
     "output_type": "stream",
     "text": [
      "23\n",
      "The error raised: Input is grater than 10\n"
     ]
    }
   ],
   "source": [
    "class CustomException(Exception):\n",
    "    \"\"\"Exception raised for custom purpose\n",
    "\n",
    "    Attributes:\n",
    "        message -- explanation of the error\n",
    "    \"\"\"\n",
    "\n",
    "    def __init__(self, message):\n",
    "        self.message = message\n",
    "\n",
    "\n",
    "num = int(input())\n",
    "\n",
    "try:\n",
    "    if num < 10:\n",
    "        raise CustomException(\"Input is less than 10\")\n",
    "    elif num > 10:\n",
    "        raise CustomException(\"Input is grater than 10\")\n",
    "except CustomException as ce:\n",
    "    print(\"The error raised: \" + ce.message)"
   ]
  },
  {
   "cell_type": "markdown",
   "id": "c360de86",
   "metadata": {},
   "source": [
    "# Question 53\n",
    "# *Assuming that we have some email addresses in the \"username@companyname.com\" format, please write program to print the user name of a given email address. Both user names and company names are composed of letters only.*\n",
    "\n",
    "# ***Example:\n",
    "\n",
    "# If the following email address is given as input to the program:***\n",
    "\n",
    "# john@google.com\n",
    "# *Then, the output of the program should be:*\n",
    "\n",
    "# john\n",
    "# *In case of input data being supplied to the question, it should be assumed to be a console input.*"
   ]
  },
  {
   "cell_type": "code",
   "execution_count": 66,
   "id": "188f89d5",
   "metadata": {},
   "outputs": [
    {
     "name": "stdout",
     "output_type": "stream",
     "text": [
      "yasggav10@gmail.com\n",
      "name: yasggav10\n"
     ]
    }
   ],
   "source": [
    "email_adress = [ x for x in input().split('@')]\n",
    "print('name:',email_adress[0])"
   ]
  },
  {
   "cell_type": "code",
   "execution_count": null,
   "id": "1ef75f1d",
   "metadata": {},
   "outputs": [],
   "source": [
    "import re\n",
    "\n",
    "email = \"john@google.com\"\n",
    "pattern = \"(\\w+)@\\w+.com\"\n",
    "ans = re.findall(pattern,email)\n",
    "print(ans)"
   ]
  },
  {
   "cell_type": "markdown",
   "id": "608449ad",
   "metadata": {},
   "source": [
    "# Question 54\n",
    "# *Assuming that we have some email addresses in the \"username@companyname.com\" format, please write program to print the company name of a given email address. Both user names and company names are composed of letters only.*\n",
    "\n",
    "# ***Example:\n",
    "\n",
    "# If the following email address is given as input to the program:***\n",
    "\n",
    "# john@google.com\n",
    "# *Then, the output of the program should be:*\n",
    "\n",
    "# google\n",
    "# *In case of input data being supplied to the question, it should be assumed to be a console input.*\n",
    "\n",
    "# Hints\n",
    "# *Use \\w to match letters.*"
   ]
  },
  {
   "cell_type": "code",
   "execution_count": 68,
   "id": "dccc044c",
   "metadata": {},
   "outputs": [
    {
     "name": "stdout",
     "output_type": "stream",
     "text": [
      "['google']\n"
     ]
    }
   ],
   "source": [
    "import re\n",
    "\n",
    "email = \"yash@google.com\"\n",
    "pattern = \"\\w+@(\\w+).com\"\n",
    "ans = re.findall(pattern,email)\n",
    "print(ans)\n"
   ]
  },
  {
   "cell_type": "markdown",
   "id": "542e5e74",
   "metadata": {},
   "source": [
    "# Question 55\n",
    "# *Write a program which accepts a sequence of words separated by whitespace as input to print the words composed of digits only.*\n",
    "\n",
    "# ***Example:\n",
    "\n",
    "# If the following words is given as input to the program:***\n",
    "\n",
    "# 2 cats and 3 dogs.\n",
    "# *Then, the output of the program should be:*\n",
    "\n",
    "# ['2', '3']\n",
    "# *In case of input data being supplied to the question, it should be assumed to be a console input.*"
   ]
  },
  {
   "cell_type": "code",
   "execution_count": 70,
   "id": "1298e7cc",
   "metadata": {},
   "outputs": [
    {
     "name": "stdout",
     "output_type": "stream",
     "text": [
      "4 cats and 7 dogs\n",
      "['4', '7']\n"
     ]
    }
   ],
   "source": [
    "import re\n",
    "\n",
    "email = input()\n",
    "pattern = \"\\d+\"\n",
    "ans = re.findall(pattern,email)\n",
    "print(ans)"
   ]
  },
  {
   "cell_type": "code",
   "execution_count": null,
   "id": "8cbd99bd",
   "metadata": {},
   "outputs": [],
   "source": [
    "[int(s) for s in input().split() if s.isdigit()]"
   ]
  },
  {
   "cell_type": "markdown",
   "id": "1604e542",
   "metadata": {},
   "source": [
    "# Question 56\n",
    "# *Print a unicode string \"hello world\".*"
   ]
  },
  {
   "cell_type": "code",
   "execution_count": 72,
   "id": "30659084",
   "metadata": {},
   "outputs": [
    {
     "name": "stdout",
     "output_type": "stream",
     "text": [
      "good night world\n"
     ]
    }
   ],
   "source": [
    "unicodeString = u\"good night world\"\n",
    "print(unicodeString)"
   ]
  },
  {
   "cell_type": "markdown",
   "id": "062e5e5c",
   "metadata": {},
   "source": [
    "# Question 57\n",
    "# *Write a program to read an ASCII string and to convert it to a unicode string encoded by utf-8.*\n",
    "\n",
    "# Hints\n",
    "# *Use unicode()/encode() function to convert.*"
   ]
  },
  {
   "cell_type": "code",
   "execution_count": 73,
   "id": "11c1d9aa",
   "metadata": {},
   "outputs": [
    {
     "name": "stdout",
     "output_type": "stream",
     "text": [
      "hello world\n",
      "b'hello world'\n"
     ]
    }
   ],
   "source": [
    "s = input()\n",
    "u = s.encode('utf-8')\n",
    "print(u)"
   ]
  },
  {
   "cell_type": "markdown",
   "id": "03d1e6aa",
   "metadata": {},
   "source": [
    "# Question 58\n",
    "# *Write a special comment to indicate a Python source code file is in unicode.*\n",
    "\n"
   ]
  },
  {
   "cell_type": "code",
   "execution_count": 74,
   "id": "d8837aee",
   "metadata": {},
   "outputs": [],
   "source": [
    "# -*- coding: utf-8 -*-"
   ]
  },
  {
   "cell_type": "markdown",
   "id": "a9d226ae",
   "metadata": {},
   "source": [
    "# Question 59\n",
    "# ***Example:\n",
    "\n",
    "# If the following n is given as input to the program:***\n",
    "\n",
    "# 5\n",
    "# *Then, the output of the program should be:*\n",
    "\n",
    "# 3.55\n",
    "# *In case of input data being supplied to the question, it should be assumed to be a console input.*"
   ]
  },
  {
   "cell_type": "code",
   "execution_count": 75,
   "id": "760cbd38",
   "metadata": {},
   "outputs": [
    {
     "name": "stdout",
     "output_type": "stream",
     "text": [
      "5\n",
      "3.55\n"
     ]
    }
   ],
   "source": [
    "n = int(input())\n",
    "sum = 0\n",
    "for i in range(1, n+1):\n",
    "    sum+= i/(i+1)\n",
    "print(round(sum, 2))  # rounded to 2 decimal point"
   ]
  },
  {
   "cell_type": "markdown",
   "id": "62966beb",
   "metadata": {},
   "source": [
    "# Question 60\n",
    "# *Write a program to compute:*\n",
    "\n",
    "# f(n)=f(n-1)+100 when n>0\n",
    "# and f(0)=1\n",
    "# *with a given n input by console (n>0).*\n",
    "\n",
    "# ***Example:\n",
    "\n",
    "# If the following n is given as input to the program:***\n",
    "\n",
    "# 5\n",
    "# *Then, the output of the program should be:*\n",
    "\n",
    "# 500\n",
    "# *In case of input data being supplied to the question, it should be assumed to be a console input.*"
   ]
  },
  {
   "cell_type": "code",
   "execution_count": 76,
   "id": "fff3ebe5",
   "metadata": {},
   "outputs": [
    {
     "name": "stdout",
     "output_type": "stream",
     "text": [
      "5\n",
      "500\n"
     ]
    }
   ],
   "source": [
    "def f(n):\n",
    "    if n==0:\n",
    "        return 0\n",
    "    else:\n",
    "        return f(n-1)+100\n",
    "\n",
    "n=int(input())\n",
    "print(f(n))"
   ]
  },
  {
   "cell_type": "code",
   "execution_count": 78,
   "id": "0f21e35d",
   "metadata": {},
   "outputs": [],
   "source": [
    "def fibonacci_recursive(n):\n",
    "    print(\"Calculating F\", \"(\", n, \")\", sep=\"\", end=\", \")\n",
    "\n",
    "    # Base case\n",
    "    if n == 0:\n",
    "        return 0\n",
    "    elif n == 1:\n",
    "        return 1\n",
    "\n",
    "    # Recursive case\n",
    "    else:\n",
    "        return fibonacci_recursive(n-1) + fibonacci_recursive(n-2)"
   ]
  },
  {
   "cell_type": "code",
   "execution_count": 79,
   "id": "2c202287",
   "metadata": {},
   "outputs": [
    {
     "name": "stdout",
     "output_type": "stream",
     "text": [
      "Calculating F(5), Calculating F(4), Calculating F(3), Calculating F(2), Calculating F(1), Calculating F(0), Calculating F(1), Calculating F(2), Calculating F(1), Calculating F(0), Calculating F(3), Calculating F(2), Calculating F(1), Calculating F(0), Calculating F(1), "
     ]
    },
    {
     "data": {
      "text/plain": [
       "5"
      ]
     },
     "execution_count": 79,
     "metadata": {},
     "output_type": "execute_result"
    }
   ],
   "source": [
    "fibonacci_recursive(5)"
   ]
  },
  {
   "cell_type": "markdown",
   "id": "4deb0f47",
   "metadata": {},
   "source": [
    "# Question 61\n",
    "# *The Fibonacci Sequence is computed based on the following formula:*\n",
    "\n",
    "# f(n)=0 if n=0\n",
    "# f(n)=1 if n=1\n",
    "# f(n)=f(n-1)+f(n-2) if n>1\n",
    "# *Please write a program to compute the value of f(n) with a given n input by console.*\n",
    "\n",
    "# ***Example:\n",
    "\n",
    "# If the following n is given as input to the program:***\n",
    "\n",
    "# 7\n",
    "# *Then, the output of the program should be:*\n",
    "\n",
    "# 13\n",
    "# *In case of input data being supplied to the question, it should be assumed to be a console input.*\n",
    "\n",
    "# Hints\n",
    "# *We can define recursive function in Python.*"
   ]
  },
  {
   "cell_type": "code",
   "execution_count": 80,
   "id": "21367bd8",
   "metadata": {},
   "outputs": [
    {
     "name": "stdout",
     "output_type": "stream",
     "text": [
      "7\n",
      "13\n"
     ]
    }
   ],
   "source": [
    "def f(n):\n",
    "    if n < 2:\n",
    "        return n\n",
    "    return(f(n-1) + f(n-2))\n",
    "\n",
    "n = int(input())\n",
    "print(f(n))"
   ]
  },
  {
   "cell_type": "markdown",
   "id": "c754704e",
   "metadata": {},
   "source": [
    "# Question 62\n",
    "# *The Fibonacci Sequence is computed based on the following formula:*\n",
    "\n",
    "# f(n)=0 if n=0\n",
    "# f(n)=1 if n=1\n",
    "# f(n)=f(n-1)+f(n-2) if n>1\n",
    "# *Please write a program to compute the value of f(n) with a given n input by console.*\n",
    "\n",
    "# ***Example:\n",
    "\n",
    "# If the following n is given as input to the program:***\n",
    "\n",
    "# 7\n",
    "# *Then, the output of the program should be:*\n",
    "\n",
    "# 0,1,1,2,3,5,8,13\n",
    "# *In case of input data being supplied to the question, it should be assumed to be a console input.*"
   ]
  },
  {
   "cell_type": "code",
   "execution_count": 81,
   "id": "d6dac01e",
   "metadata": {},
   "outputs": [
    {
     "name": "stdout",
     "output_type": "stream",
     "text": [
      "7\n",
      "0,1,1,2,3,5,8,13\n"
     ]
    }
   ],
   "source": [
    "def f(n):\n",
    "    if n == 0: return 0\n",
    "    elif n == 1: return 1\n",
    "    else: return f(n-1)+f(n-2)\n",
    "\n",
    "n=int(input())\n",
    "values = [str(f(x)) for x in range(0, n+1)]\n",
    "print (\",\".join(values))"
   ]
  },
  {
   "cell_type": "markdown",
   "id": "81dd4723",
   "metadata": {},
   "source": [
    "# Question 63\n",
    "# *Please write a program using generator to print the even numbers between 0 and n in comma separated form while n is input by console.*\n",
    "\n",
    "# ***Example:\n",
    "\n",
    "# If the following n is given as input to the program:***\n",
    "\n",
    "# 10\n",
    "# *Then, the output of the program should be:*\n",
    "\n",
    "# 0,2,4,6,8,10\n",
    "# *In case of input data being supplied to the question, it should be assumed to be a console input.*\n",
    "\n",
    "# Hints\n",
    "# *Use yield to produce the next value in generator.*"
   ]
  },
  {
   "cell_type": "code",
   "execution_count": 82,
   "id": "7003168c",
   "metadata": {},
   "outputs": [
    {
     "name": "stdout",
     "output_type": "stream",
     "text": [
      "10\n",
      "0,2,4,6,8,10\n"
     ]
    }
   ],
   "source": [
    "def get_evennumbers(x):\n",
    "    for x in range(0,x+1):\n",
    "        if x%2==0:\n",
    "            yield x\n",
    "\n",
    "input_number=int(input())\n",
    "values = []\n",
    "for i in get_evennumbers(input_number):\n",
    "    values.append(str(i)) \n",
    "print(\",\".join(values))"
   ]
  },
  {
   "cell_type": "markdown",
   "id": "f9bd9d1f",
   "metadata": {},
   "source": [
    "# Question 64\n",
    "# *Please write a program using generator to print the numbers which can be divisible by 5 and 7 between 0 and n in comma separated form while n is input by console.*\n",
    "\n",
    "# ***Example:\n",
    "\n",
    "# If the following n is given as input to the program:***\n",
    "\n",
    "# 100\n",
    "# *Then, the output of the program should be:*\n",
    "\n",
    "# 0,35,70\n",
    "# *In case of input data being supplied to the question, it should be assumed to be a console input.*#"
   ]
  },
  {
   "cell_type": "code",
   "execution_count": 83,
   "id": "dc793733",
   "metadata": {},
   "outputs": [
    {
     "name": "stdout",
     "output_type": "stream",
     "text": [
      "100\n",
      "0,35,70\n"
     ]
    }
   ],
   "source": [
    "def devision_seven_five(x):\n",
    "    for x in range(0,x+1):\n",
    "        if x%35==0:\n",
    "            yield x\n",
    "\n",
    "input_number=int(input())\n",
    "values = []\n",
    "resp = [str(i) for i in devision_seven_five(input_number)]\n",
    "print(\",\".join(resp))"
   ]
  },
  {
   "cell_type": "markdown",
   "id": "4274d200",
   "metadata": {},
   "source": [
    "# Question 65\n",
    "# *Please write assert statements to verify that every number in the list [2,4,6,8] is even.*"
   ]
  },
  {
   "cell_type": "code",
   "execution_count": 90,
   "id": "fa36400d",
   "metadata": {},
   "outputs": [
    {
     "ename": "AssertionError",
     "evalue": "5 is not an even number",
     "output_type": "error",
     "traceback": [
      "\u001b[1;31m---------------------------------------------------------------------------\u001b[0m",
      "\u001b[1;31mAssertionError\u001b[0m                            Traceback (most recent call last)",
      "Cell \u001b[1;32mIn[90], line 3\u001b[0m\n\u001b[0;32m      1\u001b[0m data \u001b[38;5;241m=\u001b[39m [\u001b[38;5;241m2\u001b[39m,\u001b[38;5;241m4\u001b[39m,\u001b[38;5;241m5\u001b[39m,\u001b[38;5;241m6\u001b[39m]\n\u001b[0;32m      2\u001b[0m \u001b[38;5;28;01mfor\u001b[39;00m i \u001b[38;5;129;01min\u001b[39;00m data:\n\u001b[1;32m----> 3\u001b[0m     \u001b[38;5;28;01massert\u001b[39;00m (i\u001b[38;5;241m%\u001b[39m\u001b[38;5;241m2\u001b[39m \u001b[38;5;241m==\u001b[39m \u001b[38;5;241m0\u001b[39m), \u001b[38;5;124m\"\u001b[39m\u001b[38;5;132;01m{}\u001b[39;00m\u001b[38;5;124m is not an even number\u001b[39m\u001b[38;5;124m\"\u001b[39m\u001b[38;5;241m.\u001b[39mformat(i)\n",
      "\u001b[1;31mAssertionError\u001b[0m: 5 is not an even number"
     ]
    }
   ],
   "source": [
    "data = [2,4,5,6]\n",
    "for i in data:\n",
    "    assert (i%2 == 0), \"{} is not an even number\".format(i)\n"
   ]
  },
  {
   "cell_type": "markdown",
   "id": "21ab09ba",
   "metadata": {},
   "source": [
    "# Question 66\n",
    "# *Please write a program which accepts basic mathematic expression from console and print the evaluation result.*\n",
    "\n",
    "# ***Example:\n",
    "\n",
    "# If the following n is given as input to the program:***\n",
    "\n",
    "# 35 + 3\n",
    "# *Then, the output of the program should be:*\n",
    "\n",
    "# 38"
   ]
  },
  {
   "cell_type": "code",
   "execution_count": 92,
   "id": "156dd4f2",
   "metadata": {},
   "outputs": [
    {
     "name": "stdout",
     "output_type": "stream",
     "text": [
      "35+3\n",
      "38\n"
     ]
    }
   ],
   "source": [
    "expression = input()\n",
    "ans = eval(expression)\n",
    "print(ans)"
   ]
  },
  {
   "cell_type": "markdown",
   "id": "3c95eee4",
   "metadata": {},
   "source": [
    "# Question 67\n",
    "# *Please write a binary search function which searches an item in a sorted list. The function should return the index of element to be searched in the list.*"
   ]
  },
  {
   "cell_type": "code",
   "execution_count": 93,
   "id": "338188dd",
   "metadata": {},
   "outputs": [
    {
     "name": "stdout",
     "output_type": "stream",
     "text": [
      "4\n",
      "-1\n"
     ]
    }
   ],
   "source": [
    "import math\n",
    "def bin_search(li, element):\n",
    "    bottom = 0\n",
    "    top = len(li)-1\n",
    "    index = -1\n",
    "    while top>=bottom and index==-1:\n",
    "        mid = int(math.floor((top+bottom)/2.0))\n",
    "        if li[mid]==element:\n",
    "            index = mid\n",
    "        elif li[mid]>element:\n",
    "            top = mid-1\n",
    "        else:\n",
    "            bottom = mid+1\n",
    "\n",
    "    return index\n",
    "\n",
    "li=[2,5,7,9,11,17,222]\n",
    "print(bin_search(li,11))\n",
    "print(bin_search(li,12))"
   ]
  },
  {
   "cell_type": "code",
   "execution_count": 94,
   "id": "9337e3ee",
   "metadata": {},
   "outputs": [
    {
     "name": "stdout",
     "output_type": "stream",
     "text": [
      "7\n",
      "Last occurrence of 7 is present at 5\n"
     ]
    }
   ],
   "source": [
    "# Python code to demonstrate working of binary search in library \n",
    "from bisect import bisect_right \n",
    "\n",
    "def BinarySearch(a, x): \n",
    "    i = bisect_right(a, x) \n",
    "    if i != len(a)+1 and a[i-1] == x: \n",
    "        return (i-1) \n",
    "    else: \n",
    "        return -1\n",
    "\n",
    "lst = [1,2,4,5,6,7,8] \n",
    "x = int(input()) \n",
    "res = BinarySearch(lst, x) \n",
    "if res == -1: \n",
    "    print(x, \"is absent\") \n",
    "else: \n",
    "    print(\"Last occurrence of\", x, \"is present at\", res) "
   ]
  },
  {
   "cell_type": "markdown",
   "id": "8514c7e1",
   "metadata": {},
   "source": [
    "# Question 68\n",
    "# *Please generate a random float where the value is between 10 and 100 using Python module.*"
   ]
  },
  {
   "cell_type": "code",
   "execution_count": 95,
   "id": "1637779b",
   "metadata": {},
   "outputs": [
    {
     "name": "stdout",
     "output_type": "stream",
     "text": [
      "84.28892726872907\n"
     ]
    }
   ],
   "source": [
    "import random\n",
    "print(random.random()*100)"
   ]
  },
  {
   "cell_type": "code",
   "execution_count": 96,
   "id": "e369fd82",
   "metadata": {},
   "outputs": [
    {
     "name": "stdout",
     "output_type": "stream",
     "text": [
      "16.000001259269958\n"
     ]
    }
   ],
   "source": [
    "import random\n",
    "rand_num = random.uniform(10,100)\n",
    "print(rand_num)"
   ]
  },
  {
   "cell_type": "markdown",
   "id": "64604bdc",
   "metadata": {},
   "source": [
    "# Question 69\n",
    "# *Please generate a random float where the value is between 5 and 95 using Python module.*"
   ]
  },
  {
   "cell_type": "code",
   "execution_count": 97,
   "id": "28e181cd",
   "metadata": {},
   "outputs": [
    {
     "name": "stdout",
     "output_type": "stream",
     "text": [
      "56.876854186507224\n"
     ]
    }
   ],
   "source": [
    "import random\n",
    "print(random.random()*100-5)"
   ]
  },
  {
   "cell_type": "code",
   "execution_count": 98,
   "id": "566ba7af",
   "metadata": {},
   "outputs": [
    {
     "name": "stdout",
     "output_type": "stream",
     "text": [
      "68.64030093615176\n"
     ]
    }
   ],
   "source": [
    "import random\n",
    "rand_num = random.uniform(5,95)\n",
    "print(rand_num)"
   ]
  },
  {
   "cell_type": "markdown",
   "id": "1ae5d328",
   "metadata": {},
   "source": [
    "# Question 70\n",
    "# *Please write a program to output a random even number between 0 and 10 inclusive using random module and list comprehension.*"
   ]
  },
  {
   "cell_type": "code",
   "execution_count": 99,
   "id": "0f640476",
   "metadata": {},
   "outputs": [
    {
     "name": "stdout",
     "output_type": "stream",
     "text": [
      "8\n"
     ]
    }
   ],
   "source": [
    "import random\n",
    "even_numbers = [x for x in range(0,11) if x%2==0]\n",
    "print(random.choice(even_numbers))"
   ]
  },
  {
   "cell_type": "markdown",
   "id": "db1e99bb",
   "metadata": {},
   "source": [
    "# Question 71\n",
    "# *Please write a program to output a random number, which is divisible by 5 and 7, between 10 and 150 inclusive using random module and list comprehension.*"
   ]
  },
  {
   "cell_type": "code",
   "execution_count": 100,
   "id": "0f6cb937",
   "metadata": {},
   "outputs": [
    {
     "data": {
      "text/plain": [
       "140"
      ]
     },
     "execution_count": 100,
     "metadata": {},
     "output_type": "execute_result"
    }
   ],
   "source": [
    "import random\n",
    "number = [ x for x in range(10,151) if x%35==0]\n",
    "random.choice(number)"
   ]
  },
  {
   "cell_type": "markdown",
   "id": "cf6929db",
   "metadata": {},
   "source": [
    "# Question 72\n",
    "# *Please write a program to generate a list with 5 random numbers between 100 and 200 inclusive.*"
   ]
  },
  {
   "cell_type": "code",
   "execution_count": 101,
   "id": "4652412d",
   "metadata": {},
   "outputs": [
    {
     "name": "stdout",
     "output_type": "stream",
     "text": [
      "[181, 152, 132, 165, 200]\n"
     ]
    }
   ],
   "source": [
    "import random\n",
    "print(random.sample(range(100,201), 5))"
   ]
  },
  {
   "cell_type": "markdown",
   "id": "a465f11f",
   "metadata": {},
   "source": [
    "# Question 73\n",
    "# *Please write a program to randomly generate a list with 5 even numbers between 100 and 200 inclusive."
   ]
  },
  {
   "cell_type": "code",
   "execution_count": 102,
   "id": "e2738dd6",
   "metadata": {},
   "outputs": [
    {
     "name": "stdout",
     "output_type": "stream",
     "text": [
      "[172, 148, 108, 110, 146]\n"
     ]
    }
   ],
   "source": [
    "import random\n",
    "numbers = random.sample(range(100,201,2),5)\n",
    "print(numbers)"
   ]
  },
  {
   "cell_type": "markdown",
   "id": "8c31dd59",
   "metadata": {},
   "source": [
    "# Question 74\n",
    "# *Please write a program to randomly generate a list with 5 numbers, which are divisible by 5 and 7 , between 1 and 1000 inclusive.*"
   ]
  },
  {
   "cell_type": "code",
   "execution_count": 103,
   "id": "4bb91d2a",
   "metadata": {},
   "outputs": [
    {
     "name": "stdout",
     "output_type": "stream",
     "text": [
      "[525, 665, 35, 175, 140]\n"
     ]
    }
   ],
   "source": [
    "import random\n",
    "lst = [i for i in range(1,1001) if i%35 == 0]\n",
    "resp = random.sample(lst,5)\n",
    "print(resp)"
   ]
  },
  {
   "cell_type": "markdown",
   "id": "45eb7a1b",
   "metadata": {},
   "source": [
    "# Question 75\n",
    "# *Please write a program to randomly print a integer number between 7 and 15 inclusive.*"
   ]
  },
  {
   "cell_type": "code",
   "execution_count": 104,
   "id": "e95fe4b7",
   "metadata": {},
   "outputs": [
    {
     "name": "stdout",
     "output_type": "stream",
     "text": [
      "10\n"
     ]
    }
   ],
   "source": [
    "# import random\n",
    "# number= random.choice([x for x in range(7,16)])\n",
    "# number\n",
    "\n",
    "import random\n",
    "print(random.randrange(7,16))"
   ]
  },
  {
   "cell_type": "markdown",
   "id": "b6564558",
   "metadata": {},
   "source": [
    "# Question 76\n",
    "# *Please write a program to compress and decompress the string \"hello world!hello world!hello world!hello world!\".*\n",
    "\n",
    "# *Use zlib.compress() and zlib.decompress() to compress and decompress a string.*"
   ]
  },
  {
   "cell_type": "code",
   "execution_count": 105,
   "id": "dca52555",
   "metadata": {},
   "outputs": [
    {
     "name": "stdout",
     "output_type": "stream",
     "text": [
      "b'x\\x9c\\xcbH\\xcd\\xc9\\xc9W(\\xcf/\\xcaIQ\\xcc \\x82\\r\\x00\\xbd[\\x11\\xf5'\n",
      "b'hello world!hello world!hello world!hello world!'\n"
     ]
    }
   ],
   "source": [
    "import zlib\n",
    "s = 'hello world!hello world!hello world!hello world!'.encode()\n",
    "t = zlib.compress(s)\n",
    "print(t)\n",
    "print(zlib.decompress(t))"
   ]
  },
  {
   "cell_type": "markdown",
   "id": "167416f1",
   "metadata": {},
   "source": [
    "# Question 77\n",
    "# *Please write a program to print the running time of execution of \"1+1\" for 100 times.*"
   ]
  },
  {
   "cell_type": "code",
   "execution_count": 106,
   "id": "0bf88a09",
   "metadata": {},
   "outputs": [
    {
     "data": {
      "text/plain": [
       "1.7117099000606686"
      ]
     },
     "execution_count": 106,
     "metadata": {},
     "output_type": "execute_result"
    }
   ],
   "source": [
    "from timeit import Timer\n",
    "t = Timer(\"for i in range(100):1+1\")\n",
    "t.timeit()"
   ]
  },
  {
   "cell_type": "markdown",
   "id": "d67648ac",
   "metadata": {},
   "source": [
    "# Question 78\n",
    "# *Please write a program to shuffle and print the list [3,6,7,8].*\n",
    "\n",
    "# *Use shuffle() function to shuffle a list.*"
   ]
  },
  {
   "cell_type": "code",
   "execution_count": 107,
   "id": "f1c8a287",
   "metadata": {},
   "outputs": [
    {
     "name": "stdout",
     "output_type": "stream",
     "text": [
      "[6, 8, 3, 7]\n"
     ]
    }
   ],
   "source": [
    "import random\n",
    "lst = [3,6,7,8]\n",
    "random.shuffle(lst)\n",
    "print(lst)"
   ]
  },
  {
   "cell_type": "code",
   "execution_count": 108,
   "id": "570b018e",
   "metadata": {},
   "outputs": [
    {
     "name": "stdout",
     "output_type": "stream",
     "text": [
      "[8, 6, 3, 7]\n"
     ]
    }
   ],
   "source": [
    "import random\n",
    "\n",
    "# shuffle with a chosen seed\n",
    "lst = [3,6,7,8]\n",
    "seed = 7\n",
    "random.Random(seed).shuffle(lst)\n",
    "print(lst)"
   ]
  },
  {
   "cell_type": "markdown",
   "id": "19f0be03",
   "metadata": {},
   "source": [
    "# Question 79\n",
    "# *Please write a program to generate all sentences where subject is in [\"I\", \"You\"] and verb is in [\"Play\", \"Love\"] and the object is in [\"Hockey\",\"Football\"].*"
   ]
  },
  {
   "cell_type": "code",
   "execution_count": 109,
   "id": "3375ff60",
   "metadata": {},
   "outputs": [
    {
     "name": "stdout",
     "output_type": "stream",
     "text": [
      "I Play Hockey\n",
      "I Play Football\n",
      "I Love Hockey\n",
      "I Love Football\n",
      "You Play Hockey\n",
      "You Play Football\n",
      "You Love Hockey\n",
      "You Love Football\n"
     ]
    }
   ],
   "source": [
    "subjects=[\"I\", \"You\"]\n",
    "verbs=[\"Play\", \"Love\"]\n",
    "objects=[\"Hockey\",\"Football\"]\n",
    "\n",
    "res = [[i, j, k] for i in subjects  \n",
    "                 for j in verbs \n",
    "                 for k in objects] \n",
    "for x in res:\n",
    "    print(\" \".join(x))"
   ]
  },
  {
   "cell_type": "code",
   "execution_count": 110,
   "id": "150d11b4",
   "metadata": {},
   "outputs": [
    {
     "name": "stdout",
     "output_type": "stream",
     "text": [
      "I Play Hockey\n",
      "I Play Football\n",
      "I Love Hockey\n",
      "I Love Football\n",
      "You Play Hockey\n",
      "You Play Football\n",
      "You Love Hockey\n",
      "You Love Football\n"
     ]
    }
   ],
   "source": [
    "subjects=[\"I\", \"You\"]\n",
    "verbs=[\"Play\", \"Love\"]\n",
    "objects=[\"Hockey\",\"Football\"]\n",
    "\n",
    "for sub in subjects:\n",
    "    for verb in verbs:\n",
    "        for obj in objects:\n",
    "            print(\"{} {} {}\".format(sub,verb,obj))"
   ]
  },
  {
   "cell_type": "markdown",
   "id": "5ac6fdba",
   "metadata": {},
   "source": [
    "# Question 80\n",
    "# *Please write a program to print the list after removing even numbers in [5,6,77,45,22,12,24].*"
   ]
  },
  {
   "cell_type": "code",
   "execution_count": 111,
   "id": "69d8c70c",
   "metadata": {},
   "outputs": [
    {
     "name": "stdout",
     "output_type": "stream",
     "text": [
      "[5, 77, 45]\n"
     ]
    }
   ],
   "source": [
    "def isEven(n):\n",
    "    return n%2!=0\n",
    "\n",
    "li = [5,6,77,45,22,12,24]\n",
    "lst = list(filter(isEven,li))\n",
    "print(lst)"
   ]
  },
  {
   "cell_type": "code",
   "execution_count": 112,
   "id": "bb427f91",
   "metadata": {},
   "outputs": [
    {
     "name": "stdout",
     "output_type": "stream",
     "text": [
      "[5, 77, 45]\n"
     ]
    }
   ],
   "source": [
    "li = [5,6,77,45,22,12,24]\n",
    "lst = list(filter(lambda n:n%2!=0,li))\n",
    "print(lst)"
   ]
  },
  {
   "cell_type": "markdown",
   "id": "b4e016b3",
   "metadata": {},
   "source": [
    "# Question 81\n",
    "# *By using list comprehension, please write a program to print the list after removing numbers which are divisible by 5 and 7 in [12,24,35,70,88,120,155].*"
   ]
  },
  {
   "cell_type": "code",
   "execution_count": 113,
   "id": "b77961fd",
   "metadata": {},
   "outputs": [
    {
     "name": "stdout",
     "output_type": "stream",
     "text": [
      "[12, 24, 88, 120, 155]\n"
     ]
    }
   ],
   "source": [
    "li = [12,24,35,70,88,120,155]\n",
    "li = [x for x in li if x % 35!=0]\n",
    "print(li)"
   ]
  },
  {
   "cell_type": "markdown",
   "id": "0358de90",
   "metadata": {},
   "source": [
    "# Question 82\n",
    "# *By using list comprehension, please write a program to print the list after removing the 0th, 2nd, 4th,6th numbers in [12,24,35,70,88,120,155].*"
   ]
  },
  {
   "cell_type": "code",
   "execution_count": 114,
   "id": "b3e63a57",
   "metadata": {},
   "outputs": [
    {
     "data": {
      "text/plain": [
       "[24, 70, 120]"
      ]
     },
     "execution_count": 114,
     "metadata": {},
     "output_type": "execute_result"
    }
   ],
   "source": [
    "li = [12,24,35,70,88,120,155]\n",
    "li = [ li[x] for x in range(len(li)) if x%2!=0]\n",
    "li"
   ]
  },
  {
   "cell_type": "code",
   "execution_count": 115,
   "id": "7288834f",
   "metadata": {},
   "outputs": [
    {
     "data": {
      "text/plain": [
       "[24, 70, 120]"
      ]
     },
     "execution_count": 115,
     "metadata": {},
     "output_type": "execute_result"
    }
   ],
   "source": [
    "li = [12,24,35,70,88,120,155]\n",
    "li = [x for (i,x) in enumerate(li) if i%2!=0]\n",
    "li"
   ]
  },
  {
   "cell_type": "markdown",
   "id": "32760b9c",
   "metadata": {},
   "source": [
    "# Question 83\n",
    "# *By using list comprehension, please write a program to print the list after removing the 2nd - 4th numbers in [12,24,35,70,88,120,155].*\n",
    "\n",
    "# ***Use list comprehension to delete a bunch of element from a list.\n",
    "\n",
    "# Use enumerate() to get (index, value) tuple.***"
   ]
  },
  {
   "cell_type": "code",
   "execution_count": 116,
   "id": "dcd8caf8",
   "metadata": {},
   "outputs": [
    {
     "name": "stdout",
     "output_type": "stream",
     "text": [
      "[12, 24, 35, 120, 155]\n"
     ]
    }
   ],
   "source": [
    "li = [12,24,35,70,88,120,155]\n",
    "li = [x for (i,x) in enumerate(li) if i<3 or 4<i]\n",
    "print(li)"
   ]
  },
  {
   "cell_type": "markdown",
   "id": "e7400144",
   "metadata": {},
   "source": [
    "# Question 84\n",
    "# ***By using list comprehension, please write a program generate a 3*5*8 3D array whose each element is 0.***"
   ]
  },
  {
   "cell_type": "code",
   "execution_count": 117,
   "id": "ff358aec",
   "metadata": {},
   "outputs": [
    {
     "data": {
      "text/plain": [
       "[[[0, 0, 0, 0, 0, 0, 0, 0],\n",
       "  [0, 0, 0, 0, 0, 0, 0, 0],\n",
       "  [0, 0, 0, 0, 0, 0, 0, 0],\n",
       "  [0, 0, 0, 0, 0, 0, 0, 0],\n",
       "  [0, 0, 0, 0, 0, 0, 0, 0]],\n",
       " [[0, 0, 0, 0, 0, 0, 0, 0],\n",
       "  [0, 0, 0, 0, 0, 0, 0, 0],\n",
       "  [0, 0, 0, 0, 0, 0, 0, 0],\n",
       "  [0, 0, 0, 0, 0, 0, 0, 0],\n",
       "  [0, 0, 0, 0, 0, 0, 0, 0]],\n",
       " [[0, 0, 0, 0, 0, 0, 0, 0],\n",
       "  [0, 0, 0, 0, 0, 0, 0, 0],\n",
       "  [0, 0, 0, 0, 0, 0, 0, 0],\n",
       "  [0, 0, 0, 0, 0, 0, 0, 0],\n",
       "  [0, 0, 0, 0, 0, 0, 0, 0]]]"
      ]
     },
     "execution_count": 117,
     "metadata": {},
     "output_type": "execute_result"
    }
   ],
   "source": [
    "array = [[ [0 for col in range(8)] for col in range(5)] for row in range(3)]\n",
    "array"
   ]
  },
  {
   "cell_type": "markdown",
   "id": "0b03bc71",
   "metadata": {},
   "source": [
    "# Question 85\n",
    "# *By using list comprehension, please write a program to print the list after removing the 0th,4th,5th numbers in [12,24,35,70,88,120,155].*"
   ]
  },
  {
   "cell_type": "code",
   "execution_count": 118,
   "id": "52dd6f0c",
   "metadata": {},
   "outputs": [
    {
     "data": {
      "text/plain": [
       "[24, 35, 70, 155]"
      ]
     },
     "execution_count": 118,
     "metadata": {},
     "output_type": "execute_result"
    }
   ],
   "source": [
    "li = [12,24,35,70,88,120,155]\n",
    "li = [x for (i,x) in enumerate(li) if i not in (0,4,5)]\n",
    "li"
   ]
  },
  {
   "cell_type": "markdown",
   "id": "057a9fdc",
   "metadata": {},
   "source": [
    "# Question 86\n",
    "# *By using list comprehension, please write a program to print the list after removing the value 24 in [12,24,35,24,88,120,155].*"
   ]
  },
  {
   "cell_type": "code",
   "execution_count": 119,
   "id": "16457a88",
   "metadata": {},
   "outputs": [
    {
     "name": "stdout",
     "output_type": "stream",
     "text": [
      "[12, 35, 24, 88, 120, 155]\n"
     ]
    },
    {
     "data": {
      "text/plain": [
       "[12, 35, 24, 88, 120, 155]"
      ]
     },
     "execution_count": 119,
     "metadata": {},
     "output_type": "execute_result"
    }
   ],
   "source": [
    "li = [12,24,35,24,88,120,155]\n",
    "li.remove(24)  # this will remove only the first occurrence of 24\n",
    "print(li)\n",
    "[12, 35, 24, 88, 120, 155]\n",
    "\n",
    "\n"
   ]
  },
  {
   "cell_type": "code",
   "execution_count": 120,
   "id": "5317cc0f",
   "metadata": {},
   "outputs": [
    {
     "data": {
      "text/plain": [
       "[12, 35, 88, 120, 155]"
      ]
     },
     "execution_count": 120,
     "metadata": {},
     "output_type": "execute_result"
    }
   ],
   "source": [
    "li = [12,24,35,24,88,120,155]\n",
    "li = [x for x in li if x!=24]  # Delete all values in list if element equals 24\n",
    "li"
   ]
  },
  {
   "cell_type": "markdown",
   "id": "e0037bc6",
   "metadata": {},
   "source": [
    "# Question 87\n",
    "# *With two given lists [1,3,6,78,35,55] and [12,24,35,24,88,120,155], write a program to make a list whose elements are intersection of the above given lists.*\n",
    "\n",
    "# Hints\n",
    "# *Use set() and \"&=\" to do set intersection operation"
   ]
  },
  {
   "cell_type": "code",
   "execution_count": 121,
   "id": "5abcd878",
   "metadata": {},
   "outputs": [
    {
     "data": {
      "text/plain": [
       "{35}"
      ]
     },
     "execution_count": 121,
     "metadata": {},
     "output_type": "execute_result"
    }
   ],
   "source": [
    "set1=set([1,3,6,78,35,55])\n",
    "set2=set([12,24,35,24,88,120,155])\n",
    "result = set1.intersection(set2)\n",
    "result\n",
    "\n"
   ]
  },
  {
   "cell_type": "code",
   "execution_count": 122,
   "id": "e45586aa",
   "metadata": {},
   "outputs": [
    {
     "data": {
      "text/plain": [
       "{35}"
      ]
     },
     "execution_count": 122,
     "metadata": {},
     "output_type": "execute_result"
    }
   ],
   "source": [
    "set1=set([1,3,6,78,35,55])\n",
    "set2=set([12,24,35,24,88,120,155])\n",
    "result = set1 & set2\n",
    "result"
   ]
  },
  {
   "cell_type": "markdown",
   "id": "293812b0",
   "metadata": {},
   "source": [
    "# Question 88\n",
    "# *With a given list [12,24,35,24,88,120,155,88,120,155], write a program to print this list after removing all duplicate values with original order reserved.*\n",
    "\n",
    "# Hints\n",
    "# *Use set() to store a number of values without duplicate.*|"
   ]
  },
  {
   "cell_type": "code",
   "execution_count": 123,
   "id": "960ce714",
   "metadata": {},
   "outputs": [
    {
     "data": {
      "text/plain": [
       "{12, 24, 35, 88, 120, 155}"
      ]
     },
     "execution_count": 123,
     "metadata": {},
     "output_type": "execute_result"
    }
   ],
   "source": [
    "li=[12,24,35,24,88,120,155,88,120,155]\n",
    "test = set(li)  #> Python 3.6 Set keep the order\n",
    "test"
   ]
  },
  {
   "cell_type": "markdown",
   "id": "fe25582d",
   "metadata": {},
   "source": [
    "# Question 89\n",
    "# *Define a class Person and its two child classes: Male and Female. All classes have a method \"getGender\" which can print \"Male\" for Male class and \"Female\" for Female class.*"
   ]
  },
  {
   "cell_type": "code",
   "execution_count": 124,
   "id": "8af397b9",
   "metadata": {},
   "outputs": [
    {
     "name": "stdout",
     "output_type": "stream",
     "text": [
      "Male\n",
      "Female\n"
     ]
    }
   ],
   "source": [
    "class Person(object):\n",
    "    def getGender( self ):\n",
    "        return \"Unknown\"\n",
    "\n",
    "class Male( Person ):\n",
    "    def getGender( self ):\n",
    "        return \"Male\"\n",
    "\n",
    "class Female( Person ):\n",
    "    def getGender( self ):\n",
    "        return \"Female\"\n",
    "\n",
    "aMale = Male()\n",
    "aFemale= Female()\n",
    "print(aMale.getGender())\n",
    "print (aFemale.getGender())"
   ]
  },
  {
   "cell_type": "code",
   "execution_count": 125,
   "id": "ed360104",
   "metadata": {},
   "outputs": [
    {
     "name": "stdout",
     "output_type": "stream",
     "text": [
      "62.453029720234326\n"
     ]
    }
   ],
   "source": [
    "import random\n",
    "print(random.random()*100-5)"
   ]
  },
  {
   "cell_type": "markdown",
   "id": "96d26543",
   "metadata": {},
   "source": [
    "# Question 90\n",
    "# *Please write a program which count and print the numbers of each character in a string input by console.*\n",
    "\n",
    "# ***Example:\n",
    "\n",
    "# If the following string is given as input to the program:***\n",
    "\n",
    "# abcdefgabc\n",
    "# *Then, the output of the program should be:*\n",
    "\n",
    "# a,2\n",
    "# c,2\n",
    "# b,2\n",
    "# e,1\n",
    "# d,1\n",
    "# g,1\n",
    "# f,1\n",
    "# Hints\n",
    "# ***Use dict to store key/value pairs.\n",
    "\n",
    "# Use dict.get() method to lookup a key with default value.***"
   ]
  },
  {
   "cell_type": "code",
   "execution_count": 126,
   "id": "5569a5be",
   "metadata": {},
   "outputs": [
    {
     "name": "stdout",
     "output_type": "stream",
     "text": [
      "abcdefgabc\n",
      "a,2\n",
      "b,2\n",
      "c,2\n",
      "d,1\n",
      "e,1\n",
      "f,1\n",
      "g,1\n"
     ]
    }
   ],
   "source": [
    "s=input()\n",
    "dic = {word:s.count(word) for word in s}\n",
    "for k, v in dic.items():\n",
    "    print(f\"{k},{v}\")"
   ]
  },
  {
   "cell_type": "markdown",
   "id": "207184a3",
   "metadata": {},
   "source": [
    "# Question 91\n",
    "# *Please write a program which accepts a string from console and print it in reverse order.*\n",
    "\n",
    "# **Example:\n",
    "\n",
    "# If the following string is given as input to the program:***\n",
    "\n",
    "# rise to vote sir\n",
    "# *Then, the output of the program should be:*\n",
    "\n",
    "# ris etov ot esir\n",
    "# Hints\n",
    "# *Use list[::-1] to iterate a list in a reverse order.*"
   ]
  },
  {
   "cell_type": "code",
   "execution_count": 127,
   "id": "68a704d6",
   "metadata": {},
   "outputs": [
    {
     "name": "stdout",
     "output_type": "stream",
     "text": [
      "Input a string:rise to vote sir\n"
     ]
    },
    {
     "data": {
      "text/plain": [
       "'ris etov ot esir'"
      ]
     },
     "execution_count": 127,
     "metadata": {},
     "output_type": "execute_result"
    }
   ],
   "source": [
    "text = input(\"Input a string:\")\n",
    "lst=list(text.split(\" \"))\n",
    "lst_reverse = [x[::-1] for x in lst[::-1]]\n",
    "\" \".join(lst_reverse)\n",
    "\n"
   ]
  },
  {
   "cell_type": "code",
   "execution_count": 130,
   "id": "cf99cac8",
   "metadata": {},
   "outputs": [
    {
     "name": "stdout",
     "output_type": "stream",
     "text": [
      "rise to vote si\n",
      "is etov ot esir\n"
     ]
    },
    {
     "data": {
      "text/plain": [
       "'rise to vote sir'"
      ]
     },
     "execution_count": 130,
     "metadata": {},
     "output_type": "execute_result"
    }
   ],
   "source": [
    "s = input()\n",
    "s = ''.join(reversed(s))\n",
    "print(s)\n",
    "\"rise to vote sir\"\n"
   ]
  },
  {
   "cell_type": "code",
   "execution_count": 131,
   "id": "ee61a106",
   "metadata": {},
   "outputs": [
    {
     "name": "stdout",
     "output_type": "stream",
     "text": [
      "rise to vote si\n"
     ]
    },
    {
     "data": {
      "text/plain": [
       "'is etov ot esir'"
      ]
     },
     "execution_count": 131,
     "metadata": {},
     "output_type": "execute_result"
    }
   ],
   "source": [
    "s=input()\n",
    "s = s[::-1]\n",
    "s"
   ]
  },
  {
   "cell_type": "markdown",
   "id": "c9422b4c",
   "metadata": {},
   "source": [
    "\n",
    "# Question 92\n",
    "# *Please write a program which accepts a string from console and print the characters that have even indexes.*\n",
    "\n",
    "# ***Example:\n",
    "\n",
    "# If the following string is given as input to the program:***\n",
    "\n",
    "# H1e2l3l4o5w6o7r8l9d\n",
    "# *Then, the output of the program should be:*\n",
    "\n",
    "# Helloworld\n",
    "# Hints\n",
    "# *Use list[::2] to iterate a list by step 2.*"
   ]
  },
  {
   "cell_type": "code",
   "execution_count": 132,
   "id": "d6ac96df",
   "metadata": {},
   "outputs": [
    {
     "name": "stdout",
     "output_type": "stream",
     "text": [
      "H1e2l3l4o5w6o7r8l9d\n"
     ]
    },
    {
     "data": {
      "text/plain": [
       "'Helloworld'"
      ]
     },
     "execution_count": 132,
     "metadata": {},
     "output_type": "execute_result"
    }
   ],
   "source": [
    "s=input()\n",
    "s = s[::2]\n",
    "s\n"
   ]
  },
  {
   "cell_type": "code",
   "execution_count": 133,
   "id": "31a28866",
   "metadata": {},
   "outputs": [
    {
     "name": "stdout",
     "output_type": "stream",
     "text": [
      "yashnaik\n"
     ]
    }
   ],
   "source": [
    "s = \"y2a4s6h2n9a7i7k\"\n",
    "s = [ v for (i,v) in enumerate(s) if i%2 ==0 ]\n",
    "print(''.join(s))"
   ]
  },
  {
   "cell_type": "markdown",
   "id": "14429efb",
   "metadata": {},
   "source": [
    "\n",
    "# Question 93\n",
    "# *Please write a program which prints all permutations of [1,2,3]*\n",
    "\n",
    "# Hints\n",
    "# *Use itertools.permutations() to get permutations of list.*"
   ]
  },
  {
   "cell_type": "code",
   "execution_count": 134,
   "id": "2d96c111",
   "metadata": {},
   "outputs": [
    {
     "data": {
      "text/plain": [
       "[(1, 2, 3), (1, 3, 2), (2, 1, 3), (2, 3, 1), (3, 1, 2), (3, 2, 1)]"
      ]
     },
     "execution_count": 134,
     "metadata": {},
     "output_type": "execute_result"
    }
   ],
   "source": [
    "import itertools\n",
    "list(itertools.permutations([1,2,3]))"
   ]
  },
  {
   "cell_type": "markdown",
   "id": "92439950",
   "metadata": {},
   "source": [
    "# Question 94\n",
    "# ***Write a program to solve a classic ancient Chinese puzzle:\n",
    "\n",
    "# We count 35 heads and 94 legs among the chickens and rabbits in a farm. How many rabbits and how many chickens do we have?**"
   ]
  },
  {
   "cell_type": "code",
   "execution_count": 135,
   "id": "f00fd3d1",
   "metadata": {},
   "outputs": [
    {
     "data": {
      "text/plain": [
       "(23, 12)"
      ]
     },
     "execution_count": 135,
     "metadata": {},
     "output_type": "execute_result"
    }
   ],
   "source": [
    "def solve(numheads,numlegs):\n",
    "    ns='No solutions!'\n",
    "    for i in range(numheads+1):\n",
    "        j=numheads-i\n",
    "        if 2*i+4*j==numlegs:\n",
    "            return i,j\n",
    "    return ns,ns\n",
    "\n",
    "numheads=35\n",
    "numlegs=94\n",
    "solutions=solve(numheads,numlegs)\n",
    "solutions"
   ]
  },
  {
   "cell_type": "markdown",
   "id": "28041d75",
   "metadata": {},
   "source": [
    "# Question 95\n",
    "# *Given the participants' score sheet for your University Sports Day, you are required to find the runner-up score. You are given scores. Store them in a list and find the score of the runner-up.*\n",
    "\n",
    "# *If the following string is given as input to the program:*\n",
    "\n",
    "# 5\n",
    "# 2 3 6 6 5\n",
    "# *Then, the output of the program should be:*\n",
    "\n",
    "# 5\n",
    "# Hints\n",
    "# *Make the scores unique and then find 2nd best number*"
   ]
  },
  {
   "cell_type": "code",
   "execution_count": 145,
   "id": "2635ec6f",
   "metadata": {},
   "outputs": [
    {
     "name": "stdout",
     "output_type": "stream",
     "text": [
      "5\n",
      "25665\n"
     ]
    },
    {
     "ename": "IndexError",
     "evalue": "list index out of range",
     "output_type": "error",
     "traceback": [
      "\u001b[1;31m---------------------------------------------------------------------------\u001b[0m",
      "\u001b[1;31mIndexError\u001b[0m                                Traceback (most recent call last)",
      "Cell \u001b[1;32mIn[145], line 4\u001b[0m\n\u001b[0;32m      2\u001b[0m arr \u001b[38;5;241m=\u001b[39m \u001b[38;5;28mmap\u001b[39m(\u001b[38;5;28mint\u001b[39m, \u001b[38;5;28minput\u001b[39m()\u001b[38;5;241m.\u001b[39msplit())\n\u001b[0;32m      3\u001b[0m arr \u001b[38;5;241m=\u001b[39m \u001b[38;5;28mlist\u001b[39m(\u001b[38;5;28mset\u001b[39m(arr))\n\u001b[1;32m----> 4\u001b[0m \u001b[38;5;28;43msorted\u001b[39;49m\u001b[43m(\u001b[49m\u001b[43marr\u001b[49m\u001b[43m)\u001b[49m\u001b[43m[\u001b[49m\u001b[38;5;241;43m-\u001b[39;49m\u001b[38;5;241;43m2\u001b[39;49m\u001b[43m]\u001b[49m\n",
      "\u001b[1;31mIndexError\u001b[0m: list index out of range"
     ]
    }
   ],
   "source": [
    "n = int(input())\n",
    "arr = map(int, input().split())\n",
    "arr = list(set(arr))\n",
    "sorted(arr)[-2]"
   ]
  },
  {
   "cell_type": "markdown",
   "id": "f7bf63c8",
   "metadata": {},
   "source": [
    "# Question 96\n",
    "# ***You are given a string S and width W.\n",
    "\n",
    "# Your task is to wrap the string into a paragraph of width.***\n",
    "\n",
    "# *If the following string is given as input to the program:*\n",
    "\n",
    "# ABCDEFGHIJKLIMNOQRSTUVWXYZ\n",
    "# 4\n",
    "# *Then, the output of the program should be:*\n",
    "\n",
    "# ABCD\n",
    "# EFGH\n",
    "# IJKL\n",
    "# IMNO\n",
    "# QRST\n",
    "# UVWX\n",
    "# YZ\n",
    "# Hints\n",
    "# *Use wrap function of textwrap module*|"
   ]
  },
  {
   "cell_type": "code",
   "execution_count": 143,
   "id": "e7cf9393",
   "metadata": {},
   "outputs": [
    {
     "name": "stdout",
     "output_type": "stream",
     "text": [
      "ABCDEFGHIJKLIMNOQRSTUVWXYZ \n",
      "4\n",
      "ABCD\n",
      "EFGH\n",
      "IJKL\n",
      "IMNO\n",
      "QRST\n",
      "UVWX\n",
      "YZ\n"
     ]
    }
   ],
   "source": [
    "import textwrap\n",
    "\n",
    "def wrap(string, max_width):\n",
    "    string = textwrap.wrap(string,max_width)\n",
    "    string = \"\\n\".join(string)\n",
    "    return string\n",
    "\n",
    "if __name__ == '__main__':\n",
    "    string, max_width = input(), int(input())\n",
    "    result = wrap(string, max_width)\n",
    "    print(result)\n"
   ]
  },
  {
   "cell_type": "code",
   "execution_count": 144,
   "id": "11a9710f",
   "metadata": {},
   "outputs": [
    {
     "name": "stdout",
     "output_type": "stream",
     "text": [
      "ABCDEFGHIJKLIMNOQRSTUVWXYZ \n",
      "4\n",
      "[('A', 'B', 'C', 'D'), ('E', 'F', 'G', 'H'), ('I', 'J', 'K', 'L'), ('I', 'M', 'N', 'O'), ('Q', 'R', 'S', 'T'), ('U', 'V', 'W', 'X'), ('Y', 'Z', ' ', None)]\n"
     ]
    }
   ],
   "source": [
    "import itertools as it\n",
    "\n",
    "def grouper(lst, n, fillvalue=None):\n",
    "    iters = [iter(lst)] * n\n",
    "    return it.zip_longest(*iters, fillvalue=fillvalue)  #  默认就是None\n",
    "string, max_width = input(), int(input())\n",
    "result = grouper(string, max_width)\n",
    "print(list(result))"
   ]
  },
  {
   "cell_type": "markdown",
   "id": "a687943d",
   "metadata": {},
   "source": [
    "# Question 97\n",
    "# *You are given an integer, N. Your task is to print an alphabet rangoli of size N. (Rangoli is a form of Indian folk art based on creation of patterns.)*\n",
    "\n",
    "# *Different sizes of alphabet rangoli are shown below:*\n",
    "\n",
    "# size 3\n",
    "\n",
    "# ----c----\n",
    "# --c-b-c--\n",
    "# c-b-a-b-c\n",
    "# --c-b-c--\n",
    "# ----c----\n",
    "\n",
    "# size 5\n",
    "\n",
    "# --------e--------\n",
    "# ------e-d-e------\n",
    "# ----e-d-c-d-e----\n",
    "# --e-d-c-b-c-d-e--\n",
    "# e-d-c-b-a-b-c-d-e\n",
    "# --e-d-c-b-c-d-e--\n",
    "# ----e-d-c-d-e----\n",
    "# ------e-d-e------\n",
    "# --------e--------\n",
    "# Hints\n",
    "# *First print the half of the Rangoli in the given way and save each line in a list. Then print the list in reverse order to get the rest.*"
   ]
  },
  {
   "cell_type": "code",
   "execution_count": 148,
   "id": "d115a6a4",
   "metadata": {
    "scrolled": true
   },
   "outputs": [
    {
     "name": "stdout",
     "output_type": "stream",
     "text": [
      "3\n",
      "----c----\n",
      "--c-b-c--\n",
      "c-b-a-b-c\n",
      "--c-b-c--\n",
      "----c----\n"
     ]
    }
   ],
   "source": [
    "import string\n",
    "def print_rangoli(size):\n",
    "    n = size\n",
    "    alph = string.ascii_lowercase\n",
    "    width = 4 * n - 3\n",
    "\n",
    "    ans = []\n",
    "    for i in range(n):\n",
    "        left = '-'.join(alph[n - i - 1:n])\n",
    "        mid = left[-1:0:-1] + left\n",
    "        final = mid.center(width, '-')\n",
    "        ans.append(final)\n",
    "\n",
    "    if len(ans) > 1:\n",
    "        for i in ans[n - 2::-1]:\n",
    "            ans.append(i)\n",
    "    ans = '\\n'.join(ans)\n",
    "    print(ans)\n",
    "\n",
    "\n",
    "if __name__ == '__main__':\n",
    "    n = int(input())\n",
    "    print_rangoli(n)"
   ]
  },
  {
   "cell_type": "code",
   "execution_count": 150,
   "id": "80e78aba",
   "metadata": {},
   "outputs": [
    {
     "name": "stdout",
     "output_type": "stream",
     "text": [
      "5\n",
      "--------e--------\n",
      "------e-d-e------\n",
      "----e-d-c-d-e----\n",
      "--e-d-c-b-c-d-e--\n",
      "e-d-c-b-a-b-c-d-e\n",
      "--e-d-c-b-c-d-e--\n",
      "----e-d-c-d-e----\n",
      "------e-d-e------\n",
      "--------e--------\n"
     ]
    }
   ],
   "source": [
    "import string\n",
    "def print_rangoli(size):\n",
    "    n = size\n",
    "    alph = string.ascii_lowercase\n",
    "    width = 4 * n - 3\n",
    "\n",
    "    ans = []\n",
    "    for i in range(n):\n",
    "        left = '-'.join(alph[n - i - 1:n])\n",
    "        mid = left[-1:0:-1] + left\n",
    "        final = mid.center(width, '-')\n",
    "        ans.append(final)\n",
    "\n",
    "    if len(ans) > 1:\n",
    "        for i in ans[n - 2::-1]:\n",
    "            ans.append(i)\n",
    "    ans = '\\n'.join(ans)\n",
    "    print(ans)\n",
    "\n",
    "\n",
    "if __name__ == '__main__':\n",
    "    n = int(input())\n",
    "    print_rangoli(n)"
   ]
  },
  {
   "cell_type": "markdown",
   "id": "713a3255",
   "metadata": {},
   "source": [
    "# Question 98\n",
    "# *You are given a date. Your task is to find what the day is on that date.*\n",
    "\n",
    "# Input\n",
    "\n",
    "# *A single line of input containing the space separated month, day and year, respectively, in MM DD YYYY format.*\n",
    "\n",
    "# 08 05 2015\n",
    "# Output\n",
    "\n",
    "# *Output the correct day in capital letters.*\n",
    "\n",
    "# WEDNESDAY\n",
    "# Hints\n",
    "# *Use weekday function of calender module*"
   ]
  },
  {
   "cell_type": "code",
   "execution_count": 151,
   "id": "a92c04f1",
   "metadata": {},
   "outputs": [
    {
     "name": "stdout",
     "output_type": "stream",
     "text": [
      "08 05 2015\n",
      "WEDNESDAY\n"
     ]
    }
   ],
   "source": [
    "import calendar\n",
    "\n",
    "month, day, year = map(int, input().split())\n",
    "\n",
    "dayId = calendar.weekday(year, month, day)\n",
    "print(calendar.day_name[dayId].upper())"
   ]
  },
  {
   "cell_type": "markdown",
   "id": "255148de",
   "metadata": {},
   "source": [
    "# Question 99\n",
    "# *Given 2 sets of integers, M and N, print their symmetric difference in ascending order. The term symmetric difference indicates those values that exist in either M or N but do not exist in both.*\n",
    "\n",
    "# Input\n",
    "\n",
    "# *The first line of input contains an integer, M.The second line contains M space-separated integers.The third line contains an integer, N.The fourth line contains N space-separated integers.*\n",
    "\n",
    "# 4\n",
    "# 2 4 5 9\n",
    "# 4\n",
    "# 2 4 11 12\n",
    "# Output\n",
    "\n",
    "# *Output the symmetric difference integers in ascending order, one per line.*\n",
    "\n",
    "# 5\n",
    "# 9\n",
    "# 11\n",
    "# 12\n",
    "# Hints\n",
    "# *Use '^' to make symmetric difference operation.*"
   ]
  },
  {
   "cell_type": "code",
   "execution_count": 155,
   "id": "35a98d26",
   "metadata": {
    "scrolled": true
   },
   "outputs": [
    {
     "name": "stdout",
     "output_type": "stream",
     "text": [
      "4\n",
      "2 4 5 9\n",
      "4\n",
      "2 4 11 12\n",
      "5\n",
      "9\n",
      "11\n",
      "12\n"
     ]
    }
   ],
   "source": [
    "if __name__ == '__main__':\n",
    "    n = int(input())\n",
    "    set1 = set(map(int,input().split()))\n",
    "\n",
    "    m = int(input())\n",
    "    set2 = set(map(int, input().split()))\n",
    "\n",
    "    ans = list(set1 ^ set2)\n",
    "    for i in ans:        # print (sorted (ans))\n",
    "        print(i)\n",
    "   "
   ]
  },
  {
   "cell_type": "code",
   "execution_count": 154,
   "id": "fca1a26a",
   "metadata": {},
   "outputs": [
    {
     "name": "stdout",
     "output_type": "stream",
     "text": [
      "1\n",
      "2\n",
      "3\n",
      "4\n"
     ]
    }
   ],
   "source": [
    "for i in range (1,5):\n",
    "    print(i)"
   ]
  },
  {
   "cell_type": "markdown",
   "id": "770215f0",
   "metadata": {},
   "source": [
    "# Question 100\n",
    "# *You are given words. Some words may repeat. For each word, output its number of occurrences. The output order should correspond with the input order of appearance of the word. See the sample input/output for clarification.*\n",
    "\n",
    "# *If the following string is given as input to the program:*\n",
    "\n",
    "# 4\n",
    "# bcdef\n",
    "# abcdefg\n",
    "# bcde\n",
    "# bcdef\n",
    "# *Then, the output of the program should be:*\n",
    "\n",
    "# 3\n",
    "# 2 1 1\n",
    "# Hints\n",
    "# *Make a list to get the input order and a dictionary to count the word frequency*"
   ]
  },
  {
   "cell_type": "code",
   "execution_count": 156,
   "id": "30b2f55a",
   "metadata": {},
   "outputs": [
    {
     "name": "stdout",
     "output_type": "stream",
     "text": [
      "4\n",
      "bcde\n",
      "bcdefg\n",
      "bcde\n",
      "bcdef\n",
      "3\n",
      "2 1 1 "
     ]
    }
   ],
   "source": [
    "n = int(input())\n",
    "\n",
    "word_list = []\n",
    "word_dict = {}\n",
    "\n",
    "for i in range(n):\n",
    "    word = input()\n",
    "    if word not in word_dict:\n",
    "        word_list.append(word)\n",
    "    word_dict[word] = word_dict.get(word, 0) + 1\n",
    "\n",
    "print(len(word_list))\n",
    "for word in word_list:\n",
    "    print(word_dict[word], end=' ')"
   ]
  },
  {
   "cell_type": "code",
   "execution_count": null,
   "id": "94232059",
   "metadata": {},
   "outputs": [],
   "source": []
  }
 ],
 "metadata": {
  "kernelspec": {
   "display_name": "Python 3 (ipykernel)",
   "language": "python",
   "name": "python3"
  },
  "language_info": {
   "codemirror_mode": {
    "name": "ipython",
    "version": 3
   },
   "file_extension": ".py",
   "mimetype": "text/x-python",
   "name": "python",
   "nbconvert_exporter": "python",
   "pygments_lexer": "ipython3",
   "version": "3.10.9"
  }
 },
 "nbformat": 4,
 "nbformat_minor": 5
}
