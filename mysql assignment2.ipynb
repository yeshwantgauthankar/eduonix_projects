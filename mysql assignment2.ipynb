{
 "cells": [
  {
   "cell_type": "code",
   "execution_count": 6,
   "id": "9befdcbc",
   "metadata": {},
   "outputs": [],
   "source": [
    "import mysql.connector"
   ]
  },
  {
   "cell_type": "code",
   "execution_count": 7,
   "id": "7895cbbf",
   "metadata": {},
   "outputs": [
    {
     "name": "stdout",
     "output_type": "stream",
     "text": [
      "<mysql.connector.connection_cext.CMySQLConnection object at 0x00000255780774F0>\n"
     ]
    }
   ],
   "source": [
    "mydb = mysql.connector.connect(host='localhost',\n",
    "                              user='root',\n",
    "                               password='1234')\n",
    "\n",
    "print(mydb)"
   ]
  },
  {
   "cell_type": "code",
   "execution_count": null,
   "id": "2d952921",
   "metadata": {},
   "outputs": [],
   "source": [
    "mycursor=mydb.cursor()\n",
    "mycursor.execute(\"DROP TABLE IF EXISTS Counts\")"
   ]
  },
  {
   "cell_type": "code",
   "execution_count": 10,
   "id": "28dd20ca",
   "metadata": {},
   "outputs": [],
   "source": [
    "mycursor = mydb.cursor()\n",
    "mycursor.execute('CREATE DATABASE classicmodel')"
   ]
  },
  {
   "cell_type": "code",
   "execution_count": 15,
   "id": "aa182ff1",
   "metadata": {},
   "outputs": [],
   "source": [
    "mydb = mysql.connector.connect(host='localhost',\n",
    "                               user='root',\n",
    "                               password='1234',\n",
    "                               database= 'classicmodel' )\n",
    "\n",
    "mycursor = mydb.cursor()\n",
    "mycursor.execute(\"CREATE TABLE counts (org TEXT,count VARCHAR(255))\")"
   ]
  },
  {
   "cell_type": "code",
   "execution_count": 19,
   "id": "5f3c1324",
   "metadata": {
    "scrolled": true
   },
   "outputs": [
    {
     "name": "stdout",
     "output_type": "stream",
     "text": [
      "[INFO] 1 record updated...\n",
      "[INFO] No Records Found..\n",
      "[INFO] 1 record inserted...\n",
      "[INFO] No Records Found..\n",
      "[INFO] 1 record inserted...\n",
      "[INFO] No Records Found..\n",
      "[INFO] 1 record inserted...\n",
      "[INFO] 1 record updated...\n",
      "[INFO] 1 record updated...\n",
      "[INFO] 1 record updated...\n",
      "[INFO] 1 record updated...\n",
      "[INFO] 1 record updated...\n",
      "[INFO] 1 record updated...\n",
      "[INFO] 1 record updated...\n",
      "[INFO] 1 record updated...\n",
      "[INFO] 1 record updated...\n",
      "[INFO] 1 record updated...\n",
      "[INFO] No Records Found..\n",
      "[INFO] 1 record inserted...\n",
      "[INFO] No Records Found..\n",
      "[INFO] 1 record inserted...\n",
      "[INFO] 1 record updated...\n",
      "[INFO] 1 record updated...\n",
      "[INFO] 1 record updated...\n",
      "[INFO] 1 record updated...\n",
      "[INFO] 1 record updated...\n",
      "[INFO] 1 record updated...\n",
      "[INFO] 1 record updated...\n",
      "[INFO] 1 record updated...\n",
      "[INFO] 1 record updated...\n",
      "[INFO] 1 record updated...\n",
      "[INFO] 1 record updated...\n",
      "Final Output-----------------------------------\n",
      "('iupui.edu', '8')\n",
      "('uct.ac.za', '7')\n",
      "('umich.edu', '7')\n",
      "('media.berkeley.edu', '4')\n",
      "('caret.cam.ac.uk', '1')\n",
      "('gmail.com', '1')\n"
     ]
    }
   ],
   "source": [
    "fname = \"mbox.txt\"\n",
    "\n",
    "with open(fname, \"r\") as f:\n",
    "    fh=f.readlines()\n",
    "    \n",
    "for line in fh:\n",
    "    if not line.startswith('From: ') :\n",
    "            continue\n",
    "\n",
    "    pieces = line.split()\n",
    "    email = pieces[1]\n",
    "    parts = email.split(\"@\")\n",
    "    org = parts[-1]\n",
    "    org\n",
    "\n",
    "    #-----------------------------------------\n",
    "    mycursor = mydb.cursor()\n",
    "    mycursor.execute('SELECT count FROM Counts WHERE org = %s',(org,))\n",
    "    myresult = mycursor.fetchone()\n",
    "    #-----------------------------------------\n",
    "    if myresult is None:\n",
    "        print (\"[INFO] No Records Found..\")\n",
    "    \n",
    "        mycursor = mydb.cursor()\n",
    "        mycursor.execute('INSERT INTO Counts (org,count) VALUES (%s,1)',(org, ))\n",
    "    \n",
    "        mydb.commit()\n",
    "    \n",
    "        print(\"[INFO]\",mycursor.rowcount,\"record inserted...\")\n",
    "    \n",
    "    else:\n",
    "    \n",
    "        mycursor = mydb.cursor()\n",
    "        mycursor.execute ('UPDATE Counts SET count=count+1 WHERE org = %s',(org, ))\n",
    "        mydb.commit()\n",
    "    \n",
    "        print(\"[INFO]\",mycursor.rowcount,\"record updated...\")\n",
    "        \n",
    "sqlstr = 'SELECT org,count FROM Counts ORDER BY count DESC LIMIT 20'\n",
    "mycursor = mydb.cursor()\n",
    "mycursor.execute(sqlstr)\n",
    "myresult = mycursor.fetchall()\n",
    "\n",
    "print(\"Final Output-----------------------------------\")\n",
    "for x in myresult:\n",
    "    print(x)\n",
    "        \n",
    "        \n",
    "\n",
    "\n"
   ]
  },
  {
   "cell_type": "code",
   "execution_count": null,
   "id": "4bde8fe9",
   "metadata": {},
   "outputs": [],
   "source": [
    "\n",
    "    "
   ]
  },
  {
   "cell_type": "code",
   "execution_count": null,
   "id": "b39b5973",
   "metadata": {},
   "outputs": [],
   "source": []
  }
 ],
 "metadata": {
  "kernelspec": {
   "display_name": "Python 3 (ipykernel)",
   "language": "python",
   "name": "python3"
  },
  "language_info": {
   "codemirror_mode": {
    "name": "ipython",
    "version": 3
   },
   "file_extension": ".py",
   "mimetype": "text/x-python",
   "name": "python",
   "nbconvert_exporter": "python",
   "pygments_lexer": "ipython3",
   "version": "3.10.9"
  }
 },
 "nbformat": 4,
 "nbformat_minor": 5
}
