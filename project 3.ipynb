{
 "cells": [
  {
   "cell_type": "markdown",
   "id": "096a4fb8",
   "metadata": {},
   "source": [
    "### Q1.WRITE A FUNCTION THAT TAKES A VARIABLE AND SQUARE IT, THEN TEST THE FUNCTION BY TAKING AN INPUT FROM A USER\"\n"
   ]
  },
  {
   "cell_type": "code",
   "execution_count": 1,
   "id": "6bf7d61a",
   "metadata": {},
   "outputs": [
    {
     "name": "stdout",
     "output_type": "stream",
     "text": [
      "Enter a number: 7\n",
      "The square is 49.0\n"
     ]
    }
   ],
   "source": [
    "def sq_num(x):\n",
    "    return x ** 2\n",
    "\n",
    "a = float(input(\"Enter a number: \"))\n",
    "result = sq_num(a)\n",
    "print(\"The square is\",result)"
   ]
  },
  {
   "cell_type": "markdown",
   "id": "083aa0b7",
   "metadata": {},
   "source": [
    "### Q2.WRITE A FUNCTION THAT TAKES 2 VARIABLE AND OBTAIN THE SUMMATION AND MULTIPLICATION, THEN TEST THE FUNCTION BY TAKING AN INPUT FROM A USER (REPEAT USING LAMBDA EXPRESSIONS)\n"
   ]
  },
  {
   "cell_type": "code",
   "execution_count": 2,
   "id": "b226caf8",
   "metadata": {},
   "outputs": [
    {
     "name": "stdout",
     "output_type": "stream",
     "text": [
      "Enter the first number: 6\n",
      "Enter the second number: 9\n",
      "Sum : 15.0\n",
      "Product : 54.0\n"
     ]
    }
   ],
   "source": [
    "\n",
    "def calculation(x, y):\n",
    "    add_num = x + y\n",
    "    product_num = x * y\n",
    "    return add_num, product_num\n",
    "\n",
    "user_input1 = float(input(\"Enter the first number: \"))\n",
    "user_input2 = float(input(\"Enter the second number: \"))\n",
    "\n",
    "add_result, mul_result = calculation(user_input1, user_input2)\n",
    "print(\"Sum :\", add_result)\n",
    "print(\"Product :\" , mul_result)"
   ]
  },
  {
   "cell_type": "markdown",
   "id": "2607f041",
   "metadata": {},
   "source": [
    "### Q3 Write a program which accept one number from user and return its factorial."
   ]
  },
  {
   "cell_type": "code",
   "execution_count": 3,
   "id": "b2c5d98d",
   "metadata": {},
   "outputs": [
    {
     "name": "stdout",
     "output_type": "stream",
     "text": [
      "Enter the number5\n",
      "Factorial  5 120\n"
     ]
    }
   ],
   "source": [
    "\n",
    "\n",
    "def Factorial(n):\n",
    "          i=1\n",
    "          while n>0:\n",
    "                    i=i*n\n",
    "                    n=n-1\n",
    "          return i\n",
    "\n",
    "x=(int(input(\"Enter the number\")))\n",
    "print(\"Factorial \",x,Factorial(x))"
   ]
  },
  {
   "cell_type": "markdown",
   "id": "104584a0",
   "metadata": {},
   "source": [
    "### Q4.DEVELOP A SCRIPT WHOSE ITEMS ARE SQUARES OF THE ORIGINAL LIST\n"
   ]
  },
  {
   "cell_type": "code",
   "execution_count": 5,
   "id": "45837bee",
   "metadata": {},
   "outputs": [
    {
     "name": "stdout",
     "output_type": "stream",
     "text": [
      "Original List: [1, 2, 3, 4, 5]\n"
     ]
    },
    {
     "ename": "NameError",
     "evalue": "name 'squared_values' is not defined",
     "output_type": "error",
     "traceback": [
      "\u001b[1;31m---------------------------------------------------------------------------\u001b[0m",
      "\u001b[1;31mNameError\u001b[0m                                 Traceback (most recent call last)",
      "Cell \u001b[1;32mIn[5], line 9\u001b[0m\n\u001b[0;32m      6\u001b[0m squared_numbers \u001b[38;5;241m=\u001b[39m square_list(original_list)\n\u001b[0;32m      8\u001b[0m \u001b[38;5;28mprint\u001b[39m(\u001b[38;5;124m\"\u001b[39m\u001b[38;5;124mOriginal List:\u001b[39m\u001b[38;5;124m\"\u001b[39m, original_list)\n\u001b[1;32m----> 9\u001b[0m \u001b[38;5;28mprint\u001b[39m(\u001b[38;5;124m\"\u001b[39m\u001b[38;5;124mSquared List:\u001b[39m\u001b[38;5;124m\"\u001b[39m, \u001b[43msquared_values\u001b[49m)\n",
      "\u001b[1;31mNameError\u001b[0m: name 'squared_values' is not defined"
     ]
    }
   ],
   "source": [
    "\n",
    "def square_list(numbers):\n",
    "    squared_list = [x ** 2 for x in numbers] #list comprehension\n",
    "    return squared_list\n",
    "\n",
    "original_list = [1, 2, 3, 4, 5]\n",
    "squared_numbers = square_list(original_list)\n",
    "\n",
    "print(\"Original List:\", original_list)\n",
    "print(\"Squared List:\", squared_values)"
   ]
  },
  {
   "cell_type": "markdown",
   "id": "a68fa2ad",
   "metadata": {},
   "source": [
    "### Q5.WRITE A FUNCTION THAT SQUARES A VARIABLE AND THEN TEST THE FUNCTION USING A LIST OF INTEGER NUMBERS RANGING FROM -20 to 20\n"
   ]
  },
  {
   "cell_type": "code",
   "execution_count": 6,
   "id": "8e721393",
   "metadata": {
    "scrolled": false
   },
   "outputs": [
    {
     "ename": "NameError",
     "evalue": "name 'square_number' is not defined",
     "output_type": "error",
     "traceback": [
      "\u001b[1;31m---------------------------------------------------------------------------\u001b[0m",
      "\u001b[1;31mNameError\u001b[0m                                 Traceback (most recent call last)",
      "Cell \u001b[1;32mIn[6], line 7\u001b[0m\n\u001b[0;32m      4\u001b[0m numbers \u001b[38;5;241m=\u001b[39m \u001b[38;5;28mlist\u001b[39m(\u001b[38;5;28mrange\u001b[39m(\u001b[38;5;241m-\u001b[39m\u001b[38;5;241m20\u001b[39m, \u001b[38;5;241m21\u001b[39m))\n\u001b[0;32m      6\u001b[0m \u001b[38;5;28;01mfor\u001b[39;00m num \u001b[38;5;129;01min\u001b[39;00m numbers:\n\u001b[1;32m----> 7\u001b[0m     squared \u001b[38;5;241m=\u001b[39m \u001b[43msquare_number\u001b[49m(num)\n\u001b[0;32m      8\u001b[0m     \u001b[38;5;28mprint\u001b[39m(\u001b[38;5;124m\"\u001b[39m\u001b[38;5;124mThe square of\u001b[39m\u001b[38;5;124m\"\u001b[39m ,{num}, \u001b[38;5;124m\"\u001b[39m\u001b[38;5;124mis\u001b[39m\u001b[38;5;124m\"\u001b[39m, {squared})\n",
      "\u001b[1;31mNameError\u001b[0m: name 'square_number' is not defined"
     ]
    }
   ],
   "source": [
    "\n",
    "\n",
    "def square_num(x):\n",
    "    return x ** 2\n",
    "\n",
    "numbers = list(range(-20, 21))\n",
    "\n",
    "for num in numbers:\n",
    "    squared = square_number(num)\n",
    "    print(\"The square of\" ,{num}, \"is\", {squared})"
   ]
  },
  {
   "cell_type": "markdown",
   "id": "2fbdd14f",
   "metadata": {},
   "source": [
    "### Q6.WRITE 3 FUNCTIONS THAT TAKE THE RADIUS OF A CIRCLE AND RETURN THE DIAMETER, AREA AND CIRCUMFERENCE, \n",
    "### TEST THE FUNCTION USING AN INPUT FROM A USER"
   ]
  },
  {
   "cell_type": "code",
   "execution_count": 7,
   "id": "38f856e3",
   "metadata": {},
   "outputs": [
    {
     "name": "stdout",
     "output_type": "stream",
     "text": [
      "Enter the radius of the circle: 4\n",
      "Given radius  4.0\n",
      "Diameter:  8.0\n",
      "Area:  50.26548245743669\n",
      "Circumference:  25.132741228718345\n"
     ]
    }
   ],
   "source": [
    "\n",
    "import math\n",
    "\n",
    "def calculate_diameter(rad):\n",
    "    return 2 * rad\n",
    "\n",
    "def calculate_area(rad):\n",
    "    return math.pi * rad ** 2\n",
    "\n",
    "def calculate_circumference(rad):\n",
    "    return 2 * math.pi * rad\n",
    "\n",
    "user_rad = float(input(\"Enter the radius of the circle: \"))\n",
    "\n",
    "diameter = calculate_diameter(user_rad)\n",
    "area = calculate_area(user_rad)\n",
    "circumference = calculate_circumference(user_rad)\n",
    "\n",
    "print(\"Given radius \" ,user_rad)\n",
    "print(f\"Diameter: \" ,diameter)\n",
    "print(f\"Area: \",area)\n",
    "print(f\"Circumference: \" , circumference)"
   ]
  },
  {
   "cell_type": "markdown",
   "id": "dfd3e90a",
   "metadata": {},
   "source": [
    "### Q7.WRITE A CODE THAT TAKES A RANGE FROM A USER (UPPER AND LOWER BOUND) AND RETURNS A LIST OF POSITIVE AND EVEN NUMBERS ONLY\n"
   ]
  },
  {
   "cell_type": "code",
   "execution_count": 8,
   "id": "7ccbf687",
   "metadata": {},
   "outputs": [
    {
     "name": "stdout",
     "output_type": "stream",
     "text": [
      "Enter the lower bound of the range: 3\n",
      "Enter the upper bound of the range: 9\n",
      "List of positive and even numbers: [4, 6, 8]\n"
     ]
    }
   ],
   "source": [
    "\n",
    "def get_posi_even_numbers(lower, upper):\n",
    "    posi_even_numbers = []\n",
    "    for num in range(lower, upper + 1):\n",
    "        if num > 0 and num % 2 == 0:\n",
    "            posi_even_numbers.append(num)\n",
    "    return posi_even_numbers\n",
    "\n",
    "lower_bound = int(input(\"Enter the lower bound of the range: \"))\n",
    "upper_bound = int(input(\"Enter the upper bound of the range: \"))\n",
    "\n",
    "even_numbers_list = get_posi_even_numbers(lower_bound, upper_bound)\n",
    "print(\"List of positive and even numbers:\",even_numbers_list)"
   ]
  },
  {
   "cell_type": "markdown",
   "id": "94b9d667",
   "metadata": {},
   "source": [
    "### Q8.USING FILTER AND LAMBDA EXPRESSION, WRITE A CODE THAT TAKES A LIST OF NUMBERS BELOW AND RETURNS EVEN NUMBERS ONLY\n"
   ]
  },
  {
   "cell_type": "code",
   "execution_count": 9,
   "id": "cbb86195",
   "metadata": {},
   "outputs": [
    {
     "name": "stdout",
     "output_type": "stream",
     "text": [
      "Even numbers: [-20, -18, -16, -14, -12, -10, -8, -6, -4, -2, 0, 2, 4, 6, 8, 10, 12, 14, 16, 18]\n"
     ]
    }
   ],
   "source": [
    "\n",
    "numbers = list(range(-20,20))\n",
    " \n",
    "even_numbers = list(filter(lambda x: x % 2 == 0, numbers))\n",
    "print(\"Even numbers:\", even_numbers)"
   ]
  },
  {
   "cell_type": "code",
   "execution_count": 12,
   "id": "1e786fe3",
   "metadata": {},
   "outputs": [
    {
     "name": "stdout",
     "output_type": "stream",
     "text": [
      "Addition:\n",
      " [[ 6  8]\n",
      " [10 12]]\n",
      "Subtraction:\n",
      " [[-4 -4]\n",
      " [-4 -4]]\n",
      "Transpose of Matrix 1:\n",
      " [[1 3]\n",
      " [2 4]]\n",
      "Transpose of Matrix 2:\n",
      " [[5 7]\n",
      " [6 8]]\n",
      "Element-wise Product:\n",
      " [[ 5 12]\n",
      " [21 32]]\n",
      "Dot Product:\n",
      " [[19 22]\n",
      " [43 50]]\n"
     ]
    }
   ],
   "source": [
    "import numpy as np\n",
    "\n",
    "def matrix_operations(matrix1, matrix2):\n",
    "    addition = matrix1 + matrix2\n",
    "    subtraction = matrix1 - matrix2\n",
    "    transpose_M1 = np.transpose(matrix1)\n",
    "    transpose_M2 = np.transpose(matrix2)\n",
    "    product = matrix1 * matrix2\n",
    "    dot_product = np.dot(matrix1, matrix2)\n",
    "    \n",
    "    return {\n",
    "        'addition': addition,\n",
    "        'subtraction': subtraction,\n",
    "        'transpose1': transpose_M1,\n",
    "        'transpose2': transpose_M2,\n",
    "        'element_wise_product': product,\n",
    "        'dot_product': dot_product\n",
    "    }\n",
    "\n",
    "\n",
    "matrix_a = np.array([[1, 2], [3, 4]])\n",
    "matrix_b = np.array([[5, 6], [7, 8]])\n",
    "\n",
    "result = matrix_operations(matrix_a, matrix_b)\n",
    "\n",
    "print(\"Addition:\\n\", result['addition'])\n",
    "print(\"Subtraction:\\n\", result['subtraction'])\n",
    "print(\"Transpose of Matrix 1:\\n\", result['transpose1'])\n",
    "print(\"Transpose of Matrix 2:\\n\", result['transpose2'])\n",
    "print(\"Element-wise Product:\\n\", result['element_wise_product'])\n",
    "print(\"Dot Product:\\n\", result['dot_product'])"
   ]
  },
  {
   "cell_type": "code",
   "execution_count": 14,
   "id": "ec24865e",
   "metadata": {},
   "outputs": [
    {
     "name": "stdout",
     "output_type": "stream",
     "text": [
      "Enter the first number : 3\n",
      "Enter the second number : 5\n",
      "The sum of: 3 and 5 is 8.0\n"
     ]
    }
   ],
   "source": [
    "def sum(a=3, b=5):\n",
    "    return a + b\n",
    "\n",
    "\n",
    "user_input1 = input(\"Enter the first number : \")\n",
    "user_input2 = input(\"Enter the second number : \")\n",
    "\n",
    "# Use default values if no input is provided\n",
    "if user_input1 == \"\":\n",
    "    user_input1 = 3\n",
    "if user_input2 == \"\":\n",
    "    user_input2 = 5\n",
    "\n",
    "result = sum(float(user_input1),float(user_input2))\n",
    "print(\"The sum of:\" ,user_input1 ,\"and\" ,user_input2, \"is\" ,result)"
   ]
  },
  {
   "cell_type": "code",
   "execution_count": 15,
   "id": "ab14de8a",
   "metadata": {},
   "outputs": [
    {
     "name": "stdout",
     "output_type": "stream",
     "text": [
      "Enter the minimum value : 12\n",
      "Enter the maximum value : 60\n",
      "Numbers divisible by 4 but not multiples of 3: [16, 20, 28, 32, 40, 44, 52, 56]\n"
     ]
    }
   ],
   "source": [
    "def check_numbers(min_value, max_value):\n",
    "    filtered_numbers = []\n",
    "    for num in range(min_value, max_value + 1):\n",
    "        if num % 4 == 0 and num % 3 != 0:\n",
    "            filtered_numbers.append(num)\n",
    "    return filtered_numbers\n",
    "\n",
    "min_range = int(input(\"Enter the minimum value : \"))\n",
    "max_range = int(input(\"Enter the maximum value : \"))\n",
    "\n",
    "divisible_numbers = check_numbers(min_range, max_range)\n",
    "print(\"Numbers divisible by 4 but not multiples of 3:\", divisible_numbers)"
   ]
  },
  {
   "cell_type": "markdown",
   "id": "a30d57b6",
   "metadata": {},
   "source": [
    "### Q12.DEFINE AN ENGLISH TO FRENCH TRANSLATOR FUNCTION THAT TAKES AN INPUT FROM A USER AND RETURNS THE TRANSLATION, USE ANY 5 KNOWN WORDS\n"
   ]
  },
  {
   "cell_type": "code",
   "execution_count": 11,
   "id": "9161cace",
   "metadata": {},
   "outputs": [
    {
     "name": "stdout",
     "output_type": "stream",
     "text": [
      "Enter an English word: come\n",
      "The translation of come in French is:  Viens\n"
     ]
    }
   ],
   "source": [
    "\n",
    "\n",
    "def english_to_french_translator(word):\n",
    "    translations = {\n",
    "        \"go\": \"Aller\",\n",
    "        \"apple\": \"pomme\",\n",
    "        \"come\": \"Viens\",\n",
    "        \"parrot\": \"perroquet\",\n",
    "        \"Car\": \"Voiture\"\n",
    "    }\n",
    "\n",
    "    translated_word = translations.get(word.lower(), \"word not found in dictionary\")\n",
    "    return translated_word\n",
    "\n",
    "user_input = input(\"Enter an English word: \")\n",
    "translated_word = english_to_french_translator(user_input)\n",
    "\n",
    "print(\"The translation of\",user_input, \"in French is: \",translated_word)"
   ]
  },
  {
   "cell_type": "code",
   "execution_count": null,
   "id": "bd55c795",
   "metadata": {},
   "outputs": [],
   "source": []
  }
 ],
 "metadata": {
  "kernelspec": {
   "display_name": "Python 3 (ipykernel)",
   "language": "python",
   "name": "python3"
  },
  "language_info": {
   "codemirror_mode": {
    "name": "ipython",
    "version": 3
   },
   "file_extension": ".py",
   "mimetype": "text/x-python",
   "name": "python",
   "nbconvert_exporter": "python",
   "pygments_lexer": "ipython3",
   "version": "3.10.9"
  }
 },
 "nbformat": 4,
 "nbformat_minor": 5
}
